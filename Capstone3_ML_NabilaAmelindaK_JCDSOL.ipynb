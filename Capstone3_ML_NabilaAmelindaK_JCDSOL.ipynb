{
 "cells": [
  {
   "attachments": {},
   "cell_type": "markdown",
   "metadata": {},
   "source": [
    "# California House"
   ]
  },
  {
   "attachments": {},
   "cell_type": "markdown",
   "metadata": {},
   "source": [
    "## Contents:\n",
    "1. Business Problem Understanding\n",
    "\n",
    "2. Data Understanding\n",
    "\n",
    "3. Data Cleaning\n",
    "\n",
    "4. Exploratory Data Analysis\n",
    "\n",
    "5. Conclusion and Recommendation"
   ]
  },
  {
   "attachments": {},
   "cell_type": "markdown",
   "metadata": {},
   "source": [
    "# Business Problem Understanding"
   ]
  },
  {
   "attachments": {},
   "cell_type": "markdown",
   "metadata": {},
   "source": [
    "## Context\n",
    "\n",
    "Dataset California House merupakan sebuah dataset yang dapat dipergunakan untuk menganalsis dan memprediksi harga rumah yang terletak di California. Hal tersebut dapat berguna bagi agen real estate, pembeli rumah, maupun pihak lain yang tertarik dengan rumah di California. \n",
    "\n",
    "**Goals**\n",
    "\n",
    "Berdasarkan permasalahan di atas, maka diperlukan sebuah 'alat' yang dapat memprediksi serta membantu pembeli maupun tuan pemilik rumah untuk dapat menentukan harga properti yang tepat.\n",
    "\n",
    "**Analytic Approach**\n",
    "\n",
    "Hal tersebut menunjukkan bahwa kita perlu melakukan analisis data untuk dapat menemukan pola yang diperoleh dari fitur-fitur yang terdapat pada dataset tersebut.\n",
    "\n",
    "Tahap selanjutnya, kita dapat membangun model regresi yang dapat membantu perusahaan untuk dapat menyediakan 'alat' yang dapat dipergunakan untuk perusahaan, pembeli rumah, maupun pemilik rumah dalam menentukan harga sewa atau harga jual. \n",
    "\n",
    "**Metric Evaluation**\n",
    "\n",
    "Evaluasi metric yang akan digunakan adalah RSE, MAE, MSE, dan R2. RMSE merupakan nilai rataan akar kuadarat dari error. MAE adalah nilai kesalahan rata-rata antara nilai prediksi dan nilai aktual dalam regresi, dan dapat memberikan gambaran tentang sejauh mana rata-rata kesalahan prediksi dari nilai aktual. MSE merupakan nilai yang menghitung selisih kuadrat antara nilai prediksi dan nilai aktual, serta memberikan gambaran tentang sejauh mana kesalahn prediksi dari nilai aktual, dengan memberikan bobot lebih pada kesalahan yang lebih besar. R2 atau R-Squared, merupakan nilai yang mengukur sejauh mana variabilitas variabel target dapat dijelaskan oleh model regresi, semkain tinggi nilai R2, maka semakin baik model dalam menjelaskan variasi data.\n",
    "\n"
   ]
  },
  {
   "attachments": {},
   "cell_type": "markdown",
   "metadata": {},
   "source": [
    "# Data Understanding"
   ]
  },
  {
   "attachments": {},
   "cell_type": "markdown",
   "metadata": {},
   "source": [
    "## Atributes Information\n",
    "\n",
    "1. Longitude : Garis lintang/north\n",
    "\n",
    "2. Latitude : Garis bujur/west\n",
    "\n",
    "3. Housing Median Age : Umur rumah\n",
    "\n",
    "4. Total Rooms : Total ruangan dalam 1 blok\n",
    "\n",
    "5. Total Berdooms : Total kamar tidur dalam 1 blok\n",
    "\n",
    "6. Population : Total penghuni dalam 1 blok\n",
    "\n",
    "7. Households : Jumlah keluarga yang tinggal dalam 1 unit rumah, dalam 1 blok\n",
    "\n",
    "8. Median Income: Pendapatan rata-rata dalam 1 blok (USD) \n",
    "\n",
    "9. Ocean Proximity :  Lokasi rumah atau jarak rumah dari laut\n",
    "\n",
    "10. Median House Value : Harga rata-rata rumah dalam 1 blok (USD)"
   ]
  },
  {
   "cell_type": "code",
   "execution_count": 1,
   "metadata": {},
   "outputs": [],
   "source": [
    "import numpy as np\n",
    "import pandas as pd\n",
    "import matplotlib.pyplot as plt\n",
    "import seaborn as sns\n",
    "%matplotlib inline"
   ]
  },
  {
   "cell_type": "code",
   "execution_count": 2,
   "metadata": {},
   "outputs": [
    {
     "data": {
      "text/html": [
       "<div>\n",
       "<style scoped>\n",
       "    .dataframe tbody tr th:only-of-type {\n",
       "        vertical-align: middle;\n",
       "    }\n",
       "\n",
       "    .dataframe tbody tr th {\n",
       "        vertical-align: top;\n",
       "    }\n",
       "\n",
       "    .dataframe thead th {\n",
       "        text-align: right;\n",
       "    }\n",
       "</style>\n",
       "<table border=\"1\" class=\"dataframe\">\n",
       "  <thead>\n",
       "    <tr style=\"text-align: right;\">\n",
       "      <th></th>\n",
       "      <th>longitude</th>\n",
       "      <th>latitude</th>\n",
       "      <th>housing_median_age</th>\n",
       "      <th>total_rooms</th>\n",
       "      <th>total_bedrooms</th>\n",
       "      <th>population</th>\n",
       "      <th>households</th>\n",
       "      <th>median_income</th>\n",
       "      <th>ocean_proximity</th>\n",
       "      <th>median_house_value</th>\n",
       "    </tr>\n",
       "  </thead>\n",
       "  <tbody>\n",
       "    <tr>\n",
       "      <th>0</th>\n",
       "      <td>-119.79</td>\n",
       "      <td>36.73</td>\n",
       "      <td>52.0</td>\n",
       "      <td>112.0</td>\n",
       "      <td>28.0</td>\n",
       "      <td>193.0</td>\n",
       "      <td>40.0</td>\n",
       "      <td>1.9750</td>\n",
       "      <td>INLAND</td>\n",
       "      <td>47500.0</td>\n",
       "    </tr>\n",
       "    <tr>\n",
       "      <th>1</th>\n",
       "      <td>-122.21</td>\n",
       "      <td>37.77</td>\n",
       "      <td>43.0</td>\n",
       "      <td>1017.0</td>\n",
       "      <td>328.0</td>\n",
       "      <td>836.0</td>\n",
       "      <td>277.0</td>\n",
       "      <td>2.2604</td>\n",
       "      <td>NEAR BAY</td>\n",
       "      <td>100000.0</td>\n",
       "    </tr>\n",
       "    <tr>\n",
       "      <th>2</th>\n",
       "      <td>-118.04</td>\n",
       "      <td>33.87</td>\n",
       "      <td>17.0</td>\n",
       "      <td>2358.0</td>\n",
       "      <td>396.0</td>\n",
       "      <td>1387.0</td>\n",
       "      <td>364.0</td>\n",
       "      <td>6.2990</td>\n",
       "      <td>&lt;1H OCEAN</td>\n",
       "      <td>285800.0</td>\n",
       "    </tr>\n",
       "    <tr>\n",
       "      <th>3</th>\n",
       "      <td>-118.28</td>\n",
       "      <td>34.06</td>\n",
       "      <td>17.0</td>\n",
       "      <td>2518.0</td>\n",
       "      <td>1196.0</td>\n",
       "      <td>3051.0</td>\n",
       "      <td>1000.0</td>\n",
       "      <td>1.7199</td>\n",
       "      <td>&lt;1H OCEAN</td>\n",
       "      <td>175000.0</td>\n",
       "    </tr>\n",
       "    <tr>\n",
       "      <th>4</th>\n",
       "      <td>-119.81</td>\n",
       "      <td>36.73</td>\n",
       "      <td>50.0</td>\n",
       "      <td>772.0</td>\n",
       "      <td>194.0</td>\n",
       "      <td>606.0</td>\n",
       "      <td>167.0</td>\n",
       "      <td>2.2206</td>\n",
       "      <td>INLAND</td>\n",
       "      <td>59200.0</td>\n",
       "    </tr>\n",
       "  </tbody>\n",
       "</table>\n",
       "</div>"
      ],
      "text/plain": [
       "   longitude  latitude  housing_median_age  total_rooms  total_bedrooms  \\\n",
       "0    -119.79     36.73                52.0        112.0            28.0   \n",
       "1    -122.21     37.77                43.0       1017.0           328.0   \n",
       "2    -118.04     33.87                17.0       2358.0           396.0   \n",
       "3    -118.28     34.06                17.0       2518.0          1196.0   \n",
       "4    -119.81     36.73                50.0        772.0           194.0   \n",
       "\n",
       "   population  households  median_income ocean_proximity  median_house_value  \n",
       "0       193.0        40.0         1.9750          INLAND             47500.0  \n",
       "1       836.0       277.0         2.2604        NEAR BAY            100000.0  \n",
       "2      1387.0       364.0         6.2990       <1H OCEAN            285800.0  \n",
       "3      3051.0      1000.0         1.7199       <1H OCEAN            175000.0  \n",
       "4       606.0       167.0         2.2206          INLAND             59200.0  "
      ]
     },
     "execution_count": 2,
     "metadata": {},
     "output_type": "execute_result"
    }
   ],
   "source": [
    "df = pd.read_csv('data_california_house.csv')\n",
    "df.head()"
   ]
  },
  {
   "cell_type": "code",
   "execution_count": 3,
   "metadata": {},
   "outputs": [],
   "source": [
    "df_copy = df.copy()\n"
   ]
  },
  {
   "cell_type": "code",
   "execution_count": 4,
   "metadata": {},
   "outputs": [
    {
     "name": "stdout",
     "output_type": "stream",
     "text": [
      "<class 'pandas.core.frame.DataFrame'>\n",
      "RangeIndex: 14448 entries, 0 to 14447\n",
      "Data columns (total 10 columns):\n",
      " #   Column              Non-Null Count  Dtype  \n",
      "---  ------              --------------  -----  \n",
      " 0   longitude           14448 non-null  float64\n",
      " 1   latitude            14448 non-null  float64\n",
      " 2   housing_median_age  14448 non-null  float64\n",
      " 3   total_rooms         14448 non-null  float64\n",
      " 4   total_bedrooms      14311 non-null  float64\n",
      " 5   population          14448 non-null  float64\n",
      " 6   households          14448 non-null  float64\n",
      " 7   median_income       14448 non-null  float64\n",
      " 8   ocean_proximity     14448 non-null  object \n",
      " 9   median_house_value  14448 non-null  float64\n",
      "dtypes: float64(9), object(1)\n",
      "memory usage: 1.1+ MB\n"
     ]
    }
   ],
   "source": [
    "df_copy.info()"
   ]
  },
  {
   "cell_type": "code",
   "execution_count": 5,
   "metadata": {},
   "outputs": [
    {
     "data": {
      "text/html": [
       "<div>\n",
       "<style scoped>\n",
       "    .dataframe tbody tr th:only-of-type {\n",
       "        vertical-align: middle;\n",
       "    }\n",
       "\n",
       "    .dataframe tbody tr th {\n",
       "        vertical-align: top;\n",
       "    }\n",
       "\n",
       "    .dataframe thead th {\n",
       "        text-align: right;\n",
       "    }\n",
       "</style>\n",
       "<table border=\"1\" class=\"dataframe\">\n",
       "  <thead>\n",
       "    <tr style=\"text-align: right;\">\n",
       "      <th></th>\n",
       "      <th>longitude</th>\n",
       "      <th>latitude</th>\n",
       "      <th>housing_median_age</th>\n",
       "      <th>total_rooms</th>\n",
       "      <th>total_bedrooms</th>\n",
       "      <th>population</th>\n",
       "      <th>households</th>\n",
       "      <th>median_income</th>\n",
       "      <th>median_house_value</th>\n",
       "    </tr>\n",
       "  </thead>\n",
       "  <tbody>\n",
       "    <tr>\n",
       "      <th>count</th>\n",
       "      <td>14448.000000</td>\n",
       "      <td>14448.000000</td>\n",
       "      <td>14448.000000</td>\n",
       "      <td>14448.000000</td>\n",
       "      <td>14311.000000</td>\n",
       "      <td>14448.000000</td>\n",
       "      <td>14448.000000</td>\n",
       "      <td>14448.000000</td>\n",
       "      <td>14448.000000</td>\n",
       "    </tr>\n",
       "    <tr>\n",
       "      <th>mean</th>\n",
       "      <td>-119.566647</td>\n",
       "      <td>35.630093</td>\n",
       "      <td>28.618702</td>\n",
       "      <td>2640.132683</td>\n",
       "      <td>538.260709</td>\n",
       "      <td>1425.157323</td>\n",
       "      <td>499.508929</td>\n",
       "      <td>3.866667</td>\n",
       "      <td>206824.624516</td>\n",
       "    </tr>\n",
       "    <tr>\n",
       "      <th>std</th>\n",
       "      <td>2.006587</td>\n",
       "      <td>2.140121</td>\n",
       "      <td>12.596694</td>\n",
       "      <td>2191.612441</td>\n",
       "      <td>423.577544</td>\n",
       "      <td>1149.580157</td>\n",
       "      <td>383.098390</td>\n",
       "      <td>1.891158</td>\n",
       "      <td>115365.476182</td>\n",
       "    </tr>\n",
       "    <tr>\n",
       "      <th>min</th>\n",
       "      <td>-124.350000</td>\n",
       "      <td>32.540000</td>\n",
       "      <td>1.000000</td>\n",
       "      <td>2.000000</td>\n",
       "      <td>1.000000</td>\n",
       "      <td>3.000000</td>\n",
       "      <td>1.000000</td>\n",
       "      <td>0.499900</td>\n",
       "      <td>14999.000000</td>\n",
       "    </tr>\n",
       "    <tr>\n",
       "      <th>25%</th>\n",
       "      <td>-121.800000</td>\n",
       "      <td>33.930000</td>\n",
       "      <td>18.000000</td>\n",
       "      <td>1451.000000</td>\n",
       "      <td>295.000000</td>\n",
       "      <td>784.000000</td>\n",
       "      <td>279.000000</td>\n",
       "      <td>2.570600</td>\n",
       "      <td>119600.000000</td>\n",
       "    </tr>\n",
       "    <tr>\n",
       "      <th>50%</th>\n",
       "      <td>-118.490000</td>\n",
       "      <td>34.260000</td>\n",
       "      <td>29.000000</td>\n",
       "      <td>2125.000000</td>\n",
       "      <td>435.000000</td>\n",
       "      <td>1165.000000</td>\n",
       "      <td>410.000000</td>\n",
       "      <td>3.539100</td>\n",
       "      <td>180000.000000</td>\n",
       "    </tr>\n",
       "    <tr>\n",
       "      <th>75%</th>\n",
       "      <td>-118.000000</td>\n",
       "      <td>37.710000</td>\n",
       "      <td>37.000000</td>\n",
       "      <td>3148.000000</td>\n",
       "      <td>647.000000</td>\n",
       "      <td>1724.000000</td>\n",
       "      <td>604.000000</td>\n",
       "      <td>4.736100</td>\n",
       "      <td>263900.000000</td>\n",
       "    </tr>\n",
       "    <tr>\n",
       "      <th>max</th>\n",
       "      <td>-114.310000</td>\n",
       "      <td>41.950000</td>\n",
       "      <td>52.000000</td>\n",
       "      <td>32627.000000</td>\n",
       "      <td>6445.000000</td>\n",
       "      <td>35682.000000</td>\n",
       "      <td>6082.000000</td>\n",
       "      <td>15.000100</td>\n",
       "      <td>500001.000000</td>\n",
       "    </tr>\n",
       "  </tbody>\n",
       "</table>\n",
       "</div>"
      ],
      "text/plain": [
       "          longitude      latitude  housing_median_age   total_rooms  \\\n",
       "count  14448.000000  14448.000000        14448.000000  14448.000000   \n",
       "mean    -119.566647     35.630093           28.618702   2640.132683   \n",
       "std        2.006587      2.140121           12.596694   2191.612441   \n",
       "min     -124.350000     32.540000            1.000000      2.000000   \n",
       "25%     -121.800000     33.930000           18.000000   1451.000000   \n",
       "50%     -118.490000     34.260000           29.000000   2125.000000   \n",
       "75%     -118.000000     37.710000           37.000000   3148.000000   \n",
       "max     -114.310000     41.950000           52.000000  32627.000000   \n",
       "\n",
       "       total_bedrooms    population    households  median_income  \\\n",
       "count    14311.000000  14448.000000  14448.000000   14448.000000   \n",
       "mean       538.260709   1425.157323    499.508929       3.866667   \n",
       "std        423.577544   1149.580157    383.098390       1.891158   \n",
       "min          1.000000      3.000000      1.000000       0.499900   \n",
       "25%        295.000000    784.000000    279.000000       2.570600   \n",
       "50%        435.000000   1165.000000    410.000000       3.539100   \n",
       "75%        647.000000   1724.000000    604.000000       4.736100   \n",
       "max       6445.000000  35682.000000   6082.000000      15.000100   \n",
       "\n",
       "       median_house_value  \n",
       "count        14448.000000  \n",
       "mean        206824.624516  \n",
       "std         115365.476182  \n",
       "min          14999.000000  \n",
       "25%         119600.000000  \n",
       "50%         180000.000000  \n",
       "75%         263900.000000  \n",
       "max         500001.000000  "
      ]
     },
     "execution_count": 5,
     "metadata": {},
     "output_type": "execute_result"
    }
   ],
   "source": [
    "df_copy.describe()"
   ]
  },
  {
   "attachments": {},
   "cell_type": "markdown",
   "metadata": {},
   "source": [
    "# Data Cleaning"
   ]
  },
  {
   "cell_type": "code",
   "execution_count": 6,
   "metadata": {},
   "outputs": [
    {
     "data": {
      "text/html": [
       "<div>\n",
       "<style scoped>\n",
       "    .dataframe tbody tr th:only-of-type {\n",
       "        vertical-align: middle;\n",
       "    }\n",
       "\n",
       "    .dataframe tbody tr th {\n",
       "        vertical-align: top;\n",
       "    }\n",
       "\n",
       "    .dataframe thead th {\n",
       "        text-align: right;\n",
       "    }\n",
       "</style>\n",
       "<table border=\"1\" class=\"dataframe\">\n",
       "  <thead>\n",
       "    <tr style=\"text-align: right;\">\n",
       "      <th></th>\n",
       "      <th>longitude</th>\n",
       "      <th>latitude</th>\n",
       "      <th>housing_median_age</th>\n",
       "      <th>total_rooms</th>\n",
       "      <th>total_bedrooms</th>\n",
       "      <th>population</th>\n",
       "      <th>households</th>\n",
       "      <th>median_income</th>\n",
       "      <th>ocean_proximity</th>\n",
       "      <th>median_house_value</th>\n",
       "    </tr>\n",
       "  </thead>\n",
       "  <tbody>\n",
       "    <tr>\n",
       "      <th>count</th>\n",
       "      <td>14448.000000</td>\n",
       "      <td>14448.000000</td>\n",
       "      <td>14448.000000</td>\n",
       "      <td>14448.000000</td>\n",
       "      <td>14311.000000</td>\n",
       "      <td>14448.000000</td>\n",
       "      <td>14448.000000</td>\n",
       "      <td>14448.000000</td>\n",
       "      <td>14448</td>\n",
       "      <td>14448.000000</td>\n",
       "    </tr>\n",
       "    <tr>\n",
       "      <th>unique</th>\n",
       "      <td>NaN</td>\n",
       "      <td>NaN</td>\n",
       "      <td>NaN</td>\n",
       "      <td>NaN</td>\n",
       "      <td>NaN</td>\n",
       "      <td>NaN</td>\n",
       "      <td>NaN</td>\n",
       "      <td>NaN</td>\n",
       "      <td>5</td>\n",
       "      <td>NaN</td>\n",
       "    </tr>\n",
       "    <tr>\n",
       "      <th>top</th>\n",
       "      <td>NaN</td>\n",
       "      <td>NaN</td>\n",
       "      <td>NaN</td>\n",
       "      <td>NaN</td>\n",
       "      <td>NaN</td>\n",
       "      <td>NaN</td>\n",
       "      <td>NaN</td>\n",
       "      <td>NaN</td>\n",
       "      <td>&lt;1H OCEAN</td>\n",
       "      <td>NaN</td>\n",
       "    </tr>\n",
       "    <tr>\n",
       "      <th>freq</th>\n",
       "      <td>NaN</td>\n",
       "      <td>NaN</td>\n",
       "      <td>NaN</td>\n",
       "      <td>NaN</td>\n",
       "      <td>NaN</td>\n",
       "      <td>NaN</td>\n",
       "      <td>NaN</td>\n",
       "      <td>NaN</td>\n",
       "      <td>6369</td>\n",
       "      <td>NaN</td>\n",
       "    </tr>\n",
       "    <tr>\n",
       "      <th>mean</th>\n",
       "      <td>-119.566647</td>\n",
       "      <td>35.630093</td>\n",
       "      <td>28.618702</td>\n",
       "      <td>2640.132683</td>\n",
       "      <td>538.260709</td>\n",
       "      <td>1425.157323</td>\n",
       "      <td>499.508929</td>\n",
       "      <td>3.866667</td>\n",
       "      <td>NaN</td>\n",
       "      <td>206824.624516</td>\n",
       "    </tr>\n",
       "    <tr>\n",
       "      <th>std</th>\n",
       "      <td>2.006587</td>\n",
       "      <td>2.140121</td>\n",
       "      <td>12.596694</td>\n",
       "      <td>2191.612441</td>\n",
       "      <td>423.577544</td>\n",
       "      <td>1149.580157</td>\n",
       "      <td>383.098390</td>\n",
       "      <td>1.891158</td>\n",
       "      <td>NaN</td>\n",
       "      <td>115365.476182</td>\n",
       "    </tr>\n",
       "    <tr>\n",
       "      <th>min</th>\n",
       "      <td>-124.350000</td>\n",
       "      <td>32.540000</td>\n",
       "      <td>1.000000</td>\n",
       "      <td>2.000000</td>\n",
       "      <td>1.000000</td>\n",
       "      <td>3.000000</td>\n",
       "      <td>1.000000</td>\n",
       "      <td>0.499900</td>\n",
       "      <td>NaN</td>\n",
       "      <td>14999.000000</td>\n",
       "    </tr>\n",
       "    <tr>\n",
       "      <th>25%</th>\n",
       "      <td>-121.800000</td>\n",
       "      <td>33.930000</td>\n",
       "      <td>18.000000</td>\n",
       "      <td>1451.000000</td>\n",
       "      <td>295.000000</td>\n",
       "      <td>784.000000</td>\n",
       "      <td>279.000000</td>\n",
       "      <td>2.570600</td>\n",
       "      <td>NaN</td>\n",
       "      <td>119600.000000</td>\n",
       "    </tr>\n",
       "    <tr>\n",
       "      <th>50%</th>\n",
       "      <td>-118.490000</td>\n",
       "      <td>34.260000</td>\n",
       "      <td>29.000000</td>\n",
       "      <td>2125.000000</td>\n",
       "      <td>435.000000</td>\n",
       "      <td>1165.000000</td>\n",
       "      <td>410.000000</td>\n",
       "      <td>3.539100</td>\n",
       "      <td>NaN</td>\n",
       "      <td>180000.000000</td>\n",
       "    </tr>\n",
       "    <tr>\n",
       "      <th>75%</th>\n",
       "      <td>-118.000000</td>\n",
       "      <td>37.710000</td>\n",
       "      <td>37.000000</td>\n",
       "      <td>3148.000000</td>\n",
       "      <td>647.000000</td>\n",
       "      <td>1724.000000</td>\n",
       "      <td>604.000000</td>\n",
       "      <td>4.736100</td>\n",
       "      <td>NaN</td>\n",
       "      <td>263900.000000</td>\n",
       "    </tr>\n",
       "    <tr>\n",
       "      <th>max</th>\n",
       "      <td>-114.310000</td>\n",
       "      <td>41.950000</td>\n",
       "      <td>52.000000</td>\n",
       "      <td>32627.000000</td>\n",
       "      <td>6445.000000</td>\n",
       "      <td>35682.000000</td>\n",
       "      <td>6082.000000</td>\n",
       "      <td>15.000100</td>\n",
       "      <td>NaN</td>\n",
       "      <td>500001.000000</td>\n",
       "    </tr>\n",
       "  </tbody>\n",
       "</table>\n",
       "</div>"
      ],
      "text/plain": [
       "           longitude      latitude  housing_median_age   total_rooms  \\\n",
       "count   14448.000000  14448.000000        14448.000000  14448.000000   \n",
       "unique           NaN           NaN                 NaN           NaN   \n",
       "top              NaN           NaN                 NaN           NaN   \n",
       "freq             NaN           NaN                 NaN           NaN   \n",
       "mean     -119.566647     35.630093           28.618702   2640.132683   \n",
       "std         2.006587      2.140121           12.596694   2191.612441   \n",
       "min      -124.350000     32.540000            1.000000      2.000000   \n",
       "25%      -121.800000     33.930000           18.000000   1451.000000   \n",
       "50%      -118.490000     34.260000           29.000000   2125.000000   \n",
       "75%      -118.000000     37.710000           37.000000   3148.000000   \n",
       "max      -114.310000     41.950000           52.000000  32627.000000   \n",
       "\n",
       "        total_bedrooms    population    households  median_income  \\\n",
       "count     14311.000000  14448.000000  14448.000000   14448.000000   \n",
       "unique             NaN           NaN           NaN            NaN   \n",
       "top                NaN           NaN           NaN            NaN   \n",
       "freq               NaN           NaN           NaN            NaN   \n",
       "mean        538.260709   1425.157323    499.508929       3.866667   \n",
       "std         423.577544   1149.580157    383.098390       1.891158   \n",
       "min           1.000000      3.000000      1.000000       0.499900   \n",
       "25%         295.000000    784.000000    279.000000       2.570600   \n",
       "50%         435.000000   1165.000000    410.000000       3.539100   \n",
       "75%         647.000000   1724.000000    604.000000       4.736100   \n",
       "max        6445.000000  35682.000000   6082.000000      15.000100   \n",
       "\n",
       "       ocean_proximity  median_house_value  \n",
       "count            14448        14448.000000  \n",
       "unique               5                 NaN  \n",
       "top          <1H OCEAN                 NaN  \n",
       "freq              6369                 NaN  \n",
       "mean               NaN       206824.624516  \n",
       "std                NaN       115365.476182  \n",
       "min                NaN        14999.000000  \n",
       "25%                NaN       119600.000000  \n",
       "50%                NaN       180000.000000  \n",
       "75%                NaN       263900.000000  \n",
       "max                NaN       500001.000000  "
      ]
     },
     "execution_count": 6,
     "metadata": {},
     "output_type": "execute_result"
    }
   ],
   "source": [
    "#Untuk menampilkan statistik deskriptif sebelum data di cleaning\n",
    "df_copy.describe(include='all')"
   ]
  },
  {
   "cell_type": "code",
   "execution_count": 7,
   "metadata": {},
   "outputs": [
    {
     "data": {
      "text/plain": [
       "longitude               0\n",
       "latitude                0\n",
       "housing_median_age      0\n",
       "total_rooms             0\n",
       "total_bedrooms        137\n",
       "population              0\n",
       "households              0\n",
       "median_income           0\n",
       "ocean_proximity         0\n",
       "median_house_value      0\n",
       "dtype: int64"
      ]
     },
     "execution_count": 7,
     "metadata": {},
     "output_type": "execute_result"
    }
   ],
   "source": [
    "#searching for missing value\n",
    "df_copy.isnull().sum()"
   ]
  },
  {
   "attachments": {},
   "cell_type": "markdown",
   "metadata": {},
   "source": [
    "## Missing Value\n",
    "Terdapat missing value pada feature total_bedrooms, sebanyal 137 baris.\n",
    "\n",
    "Untuk mencari korelasi antara feature total bedrooms (yang terdapat missing values) maka dilakukan pengecekkan hubungannnya dengan median house value"
   ]
  },
  {
   "cell_type": "code",
   "execution_count": 8,
   "metadata": {},
   "outputs": [],
   "source": [
    "#menyiapkan data, karena tidak mau data asli berubah \n",
    "df_with_na = df.copy()"
   ]
  },
  {
   "cell_type": "code",
   "execution_count": 9,
   "metadata": {},
   "outputs": [
    {
     "name": "stdout",
     "output_type": "stream",
     "text": [
      "total_bedrooms 0.0095 % missing values\n"
     ]
    }
   ],
   "source": [
    "#1. Make a list who has missing values\n",
    "features_with_na = [features for features in df_with_na.columns if df_with_na[features].isnull().sum()>1]\n",
    "#2. Print the percentile of missing values\n",
    "for feature in features_with_na:\n",
    "    print(feature, np.round(df_with_na[feature].isnull().mean(),4), '% missing values')"
   ]
  },
  {
   "cell_type": "code",
   "execution_count": 10,
   "metadata": {},
   "outputs": [
    {
     "data": {
      "image/png": "[encoded data removed]",
      "text/plain": [
       "<Figure size 640x480 with 1 Axes>"
      ]
     },
     "metadata": {},
     "output_type": "display_data"
    }
   ],
   "source": [
    "#1 for missing values\n",
    "\n",
    "for feature in features_with_na:\n",
    "    data = df_with_na\n",
    "\n",
    "    data[feature] = np.where(data[feature].isnull(), 1, 0)\n",
    "\n",
    "    data.groupby(feature)['median_house_value'].median().plot.bar()\n",
    "    plt.title(feature)\n",
    "    plt.show()\n",
    "\n",
    "#1 have a higher graphic than 0(not missing)"
   ]
  },
  {
   "cell_type": "code",
   "execution_count": 11,
   "metadata": {},
   "outputs": [
    {
     "data": {
      "text/html": [
       "<div>\n",
       "<style scoped>\n",
       "    .dataframe tbody tr th:only-of-type {\n",
       "        vertical-align: middle;\n",
       "    }\n",
       "\n",
       "    .dataframe tbody tr th {\n",
       "        vertical-align: top;\n",
       "    }\n",
       "\n",
       "    .dataframe thead th {\n",
       "        text-align: right;\n",
       "    }\n",
       "</style>\n",
       "<table border=\"1\" class=\"dataframe\">\n",
       "  <thead>\n",
       "    <tr style=\"text-align: right;\">\n",
       "      <th></th>\n",
       "      <th>total_bedrooms</th>\n",
       "    </tr>\n",
       "  </thead>\n",
       "  <tbody>\n",
       "    <tr>\n",
       "      <th>count</th>\n",
       "      <td>14311.0000</td>\n",
       "    </tr>\n",
       "    <tr>\n",
       "      <th>mean</th>\n",
       "      <td>538.2600</td>\n",
       "    </tr>\n",
       "    <tr>\n",
       "      <th>std</th>\n",
       "      <td>423.5800</td>\n",
       "    </tr>\n",
       "    <tr>\n",
       "      <th>min</th>\n",
       "      <td>1.0000</td>\n",
       "    </tr>\n",
       "    <tr>\n",
       "      <th>25%</th>\n",
       "      <td>295.0000</td>\n",
       "    </tr>\n",
       "    <tr>\n",
       "      <th>50%</th>\n",
       "      <td>435.0000</td>\n",
       "    </tr>\n",
       "    <tr>\n",
       "      <th>75%</th>\n",
       "      <td>647.0000</td>\n",
       "    </tr>\n",
       "    <tr>\n",
       "      <th>max</th>\n",
       "      <td>6445.0000</td>\n",
       "    </tr>\n",
       "    <tr>\n",
       "      <th>skewness</th>\n",
       "      <td>3.3900</td>\n",
       "    </tr>\n",
       "  </tbody>\n",
       "</table>\n",
       "</div>"
      ],
      "text/plain": [
       "          total_bedrooms\n",
       "count         14311.0000\n",
       "mean            538.2600\n",
       "std             423.5800\n",
       "min               1.0000\n",
       "25%             295.0000\n",
       "50%             435.0000\n",
       "75%             647.0000\n",
       "max            6445.0000\n",
       "skewness          3.3900"
      ]
     },
     "execution_count": 11,
     "metadata": {},
     "output_type": "execute_result"
    }
   ],
   "source": [
    "#Describe numerical column\n",
    "pd.set_option('display.float_format',lambda x: '%.4f' %x)\n",
    "impute = ['total_bedrooms']\n",
    "desc_clean = df_copy[impute].describe()\n",
    "desc_clean.loc['skewness'] = df_copy[impute].skew()\n",
    "desc_clean.round(2)"
   ]
  },
  {
   "attachments": {},
   "cell_type": "markdown",
   "metadata": {},
   "source": [
    "Feature total bedrooms memiliki skewed distribution, imputasi data dengan median"
   ]
  },
  {
   "cell_type": "code",
   "execution_count": 12,
   "metadata": {},
   "outputs": [
    {
     "data": {
      "text/html": [
       "<div>\n",
       "<style scoped>\n",
       "    .dataframe tbody tr th:only-of-type {\n",
       "        vertical-align: middle;\n",
       "    }\n",
       "\n",
       "    .dataframe tbody tr th {\n",
       "        vertical-align: top;\n",
       "    }\n",
       "\n",
       "    .dataframe thead th {\n",
       "        text-align: right;\n",
       "    }\n",
       "</style>\n",
       "<table border=\"1\" class=\"dataframe\">\n",
       "  <thead>\n",
       "    <tr style=\"text-align: right;\">\n",
       "      <th></th>\n",
       "      <th>longitude</th>\n",
       "      <th>latitude</th>\n",
       "      <th>housing_median_age</th>\n",
       "      <th>total_rooms</th>\n",
       "      <th>total_bedrooms</th>\n",
       "      <th>population</th>\n",
       "      <th>households</th>\n",
       "      <th>median_income</th>\n",
       "      <th>ocean_proximity</th>\n",
       "      <th>median_house_value</th>\n",
       "    </tr>\n",
       "  </thead>\n",
       "  <tbody>\n",
       "    <tr>\n",
       "      <th>88</th>\n",
       "      <td>-121.4700</td>\n",
       "      <td>38.6100</td>\n",
       "      <td>31.0000</td>\n",
       "      <td>1072.0000</td>\n",
       "      <td>NaN</td>\n",
       "      <td>781.0000</td>\n",
       "      <td>281.0000</td>\n",
       "      <td>1.6563</td>\n",
       "      <td>INLAND</td>\n",
       "      <td>65800.0000</td>\n",
       "    </tr>\n",
       "    <tr>\n",
       "      <th>119</th>\n",
       "      <td>-117.2800</td>\n",
       "      <td>34.2600</td>\n",
       "      <td>18.0000</td>\n",
       "      <td>3895.0000</td>\n",
       "      <td>NaN</td>\n",
       "      <td>1086.0000</td>\n",
       "      <td>375.0000</td>\n",
       "      <td>3.3672</td>\n",
       "      <td>INLAND</td>\n",
       "      <td>133600.0000</td>\n",
       "    </tr>\n",
       "    <tr>\n",
       "      <th>251</th>\n",
       "      <td>-117.6100</td>\n",
       "      <td>34.0800</td>\n",
       "      <td>12.0000</td>\n",
       "      <td>4427.0000</td>\n",
       "      <td>NaN</td>\n",
       "      <td>2400.0000</td>\n",
       "      <td>843.0000</td>\n",
       "      <td>4.7147</td>\n",
       "      <td>INLAND</td>\n",
       "      <td>158700.0000</td>\n",
       "    </tr>\n",
       "    <tr>\n",
       "      <th>340</th>\n",
       "      <td>-122.7000</td>\n",
       "      <td>38.3500</td>\n",
       "      <td>14.0000</td>\n",
       "      <td>2313.0000</td>\n",
       "      <td>NaN</td>\n",
       "      <td>954.0000</td>\n",
       "      <td>397.0000</td>\n",
       "      <td>3.7813</td>\n",
       "      <td>&lt;1H OCEAN</td>\n",
       "      <td>146500.0000</td>\n",
       "    </tr>\n",
       "    <tr>\n",
       "      <th>410</th>\n",
       "      <td>-122.4200</td>\n",
       "      <td>40.4400</td>\n",
       "      <td>16.0000</td>\n",
       "      <td>994.0000</td>\n",
       "      <td>NaN</td>\n",
       "      <td>495.0000</td>\n",
       "      <td>181.0000</td>\n",
       "      <td>2.1875</td>\n",
       "      <td>INLAND</td>\n",
       "      <td>76400.0000</td>\n",
       "    </tr>\n",
       "    <tr>\n",
       "      <th>...</th>\n",
       "      <td>...</td>\n",
       "      <td>...</td>\n",
       "      <td>...</td>\n",
       "      <td>...</td>\n",
       "      <td>...</td>\n",
       "      <td>...</td>\n",
       "      <td>...</td>\n",
       "      <td>...</td>\n",
       "      <td>...</td>\n",
       "      <td>...</td>\n",
       "    </tr>\n",
       "    <tr>\n",
       "      <th>13856</th>\n",
       "      <td>-117.9600</td>\n",
       "      <td>34.0300</td>\n",
       "      <td>35.0000</td>\n",
       "      <td>2093.0000</td>\n",
       "      <td>NaN</td>\n",
       "      <td>1755.0000</td>\n",
       "      <td>403.0000</td>\n",
       "      <td>3.4115</td>\n",
       "      <td>&lt;1H OCEAN</td>\n",
       "      <td>150400.0000</td>\n",
       "    </tr>\n",
       "    <tr>\n",
       "      <th>13932</th>\n",
       "      <td>-117.8700</td>\n",
       "      <td>33.8300</td>\n",
       "      <td>27.0000</td>\n",
       "      <td>2287.0000</td>\n",
       "      <td>NaN</td>\n",
       "      <td>1140.0000</td>\n",
       "      <td>351.0000</td>\n",
       "      <td>5.6163</td>\n",
       "      <td>&lt;1H OCEAN</td>\n",
       "      <td>231000.0000</td>\n",
       "    </tr>\n",
       "    <tr>\n",
       "      <th>13989</th>\n",
       "      <td>-118.4000</td>\n",
       "      <td>34.1700</td>\n",
       "      <td>24.0000</td>\n",
       "      <td>6347.0000</td>\n",
       "      <td>NaN</td>\n",
       "      <td>2945.0000</td>\n",
       "      <td>1492.0000</td>\n",
       "      <td>3.3545</td>\n",
       "      <td>&lt;1H OCEAN</td>\n",
       "      <td>221500.0000</td>\n",
       "    </tr>\n",
       "    <tr>\n",
       "      <th>14308</th>\n",
       "      <td>-118.5500</td>\n",
       "      <td>34.1900</td>\n",
       "      <td>18.0000</td>\n",
       "      <td>5862.0000</td>\n",
       "      <td>NaN</td>\n",
       "      <td>3161.0000</td>\n",
       "      <td>1280.0000</td>\n",
       "      <td>3.1106</td>\n",
       "      <td>&lt;1H OCEAN</td>\n",
       "      <td>170600.0000</td>\n",
       "    </tr>\n",
       "    <tr>\n",
       "      <th>14445</th>\n",
       "      <td>-121.9000</td>\n",
       "      <td>36.5800</td>\n",
       "      <td>31.0000</td>\n",
       "      <td>1431.0000</td>\n",
       "      <td>NaN</td>\n",
       "      <td>704.0000</td>\n",
       "      <td>393.0000</td>\n",
       "      <td>3.1977</td>\n",
       "      <td>NEAR OCEAN</td>\n",
       "      <td>289300.0000</td>\n",
       "    </tr>\n",
       "  </tbody>\n",
       "</table>\n",
       "<p>137 rows × 10 columns</p>\n",
       "</div>"
      ],
      "text/plain": [
       "       longitude  latitude  housing_median_age  total_rooms  total_bedrooms  \\\n",
       "88     -121.4700   38.6100             31.0000    1072.0000             NaN   \n",
       "119    -117.2800   34.2600             18.0000    3895.0000             NaN   \n",
       "251    -117.6100   34.0800             12.0000    4427.0000             NaN   \n",
       "340    -122.7000   38.3500             14.0000    2313.0000             NaN   \n",
       "410    -122.4200   40.4400             16.0000     994.0000             NaN   \n",
       "...          ...       ...                 ...          ...             ...   \n",
       "13856  -117.9600   34.0300             35.0000    2093.0000             NaN   \n",
       "13932  -117.8700   33.8300             27.0000    2287.0000             NaN   \n",
       "13989  -118.4000   34.1700             24.0000    6347.0000             NaN   \n",
       "14308  -118.5500   34.1900             18.0000    5862.0000             NaN   \n",
       "14445  -121.9000   36.5800             31.0000    1431.0000             NaN   \n",
       "\n",
       "       population  households  median_income ocean_proximity  \\\n",
       "88       781.0000    281.0000         1.6563          INLAND   \n",
       "119     1086.0000    375.0000         3.3672          INLAND   \n",
       "251     2400.0000    843.0000         4.7147          INLAND   \n",
       "340      954.0000    397.0000         3.7813       <1H OCEAN   \n",
       "410      495.0000    181.0000         2.1875          INLAND   \n",
       "...           ...         ...            ...             ...   \n",
       "13856   1755.0000    403.0000         3.4115       <1H OCEAN   \n",
       "13932   1140.0000    351.0000         5.6163       <1H OCEAN   \n",
       "13989   2945.0000   1492.0000         3.3545       <1H OCEAN   \n",
       "14308   3161.0000   1280.0000         3.1106       <1H OCEAN   \n",
       "14445    704.0000    393.0000         3.1977      NEAR OCEAN   \n",
       "\n",
       "       median_house_value  \n",
       "88             65800.0000  \n",
       "119           133600.0000  \n",
       "251           158700.0000  \n",
       "340           146500.0000  \n",
       "410            76400.0000  \n",
       "...                   ...  \n",
       "13856         150400.0000  \n",
       "13932         231000.0000  \n",
       "13989         221500.0000  \n",
       "14308         170600.0000  \n",
       "14445         289300.0000  \n",
       "\n",
       "[137 rows x 10 columns]"
      ]
     },
     "execution_count": 12,
     "metadata": {},
     "output_type": "execute_result"
    }
   ],
   "source": [
    "#show the data who have a NaN in total bedrooms column\n",
    "bool_series=pd.isnull(df_copy['total_bedrooms'])\n",
    "df_copy[bool_series]"
   ]
  },
  {
   "cell_type": "code",
   "execution_count": 13,
   "metadata": {},
   "outputs": [
    {
     "name": "stdout",
     "output_type": "stream",
     "text": [
      "Total Bedrooms Median= 435.0\n"
     ]
    }
   ],
   "source": [
    "#Search the median of Total Bedrooms column, to impute the values of the NaN values\n",
    "med = df_copy['total_bedrooms'].median()\n",
    "print(f'Total Bedrooms Median= {med}')"
   ]
  },
  {
   "cell_type": "code",
   "execution_count": 14,
   "metadata": {},
   "outputs": [
    {
     "data": {
      "text/html": [
       "<div>\n",
       "<style scoped>\n",
       "    .dataframe tbody tr th:only-of-type {\n",
       "        vertical-align: middle;\n",
       "    }\n",
       "\n",
       "    .dataframe tbody tr th {\n",
       "        vertical-align: top;\n",
       "    }\n",
       "\n",
       "    .dataframe thead th {\n",
       "        text-align: right;\n",
       "    }\n",
       "</style>\n",
       "<table border=\"1\" class=\"dataframe\">\n",
       "  <thead>\n",
       "    <tr style=\"text-align: right;\">\n",
       "      <th></th>\n",
       "      <th>longitude</th>\n",
       "      <th>latitude</th>\n",
       "      <th>housing_median_age</th>\n",
       "      <th>total_rooms</th>\n",
       "      <th>total_bedrooms</th>\n",
       "      <th>population</th>\n",
       "      <th>households</th>\n",
       "      <th>median_income</th>\n",
       "      <th>ocean_proximity</th>\n",
       "      <th>median_house_value</th>\n",
       "    </tr>\n",
       "  </thead>\n",
       "  <tbody>\n",
       "    <tr>\n",
       "      <th>88</th>\n",
       "      <td>-121.4700</td>\n",
       "      <td>38.6100</td>\n",
       "      <td>31.0000</td>\n",
       "      <td>1072.0000</td>\n",
       "      <td>435.0000</td>\n",
       "      <td>781.0000</td>\n",
       "      <td>281.0000</td>\n",
       "      <td>1.6563</td>\n",
       "      <td>INLAND</td>\n",
       "      <td>65800.0000</td>\n",
       "    </tr>\n",
       "    <tr>\n",
       "      <th>119</th>\n",
       "      <td>-117.2800</td>\n",
       "      <td>34.2600</td>\n",
       "      <td>18.0000</td>\n",
       "      <td>3895.0000</td>\n",
       "      <td>435.0000</td>\n",
       "      <td>1086.0000</td>\n",
       "      <td>375.0000</td>\n",
       "      <td>3.3672</td>\n",
       "      <td>INLAND</td>\n",
       "      <td>133600.0000</td>\n",
       "    </tr>\n",
       "    <tr>\n",
       "      <th>251</th>\n",
       "      <td>-117.6100</td>\n",
       "      <td>34.0800</td>\n",
       "      <td>12.0000</td>\n",
       "      <td>4427.0000</td>\n",
       "      <td>435.0000</td>\n",
       "      <td>2400.0000</td>\n",
       "      <td>843.0000</td>\n",
       "      <td>4.7147</td>\n",
       "      <td>INLAND</td>\n",
       "      <td>158700.0000</td>\n",
       "    </tr>\n",
       "    <tr>\n",
       "      <th>340</th>\n",
       "      <td>-122.7000</td>\n",
       "      <td>38.3500</td>\n",
       "      <td>14.0000</td>\n",
       "      <td>2313.0000</td>\n",
       "      <td>435.0000</td>\n",
       "      <td>954.0000</td>\n",
       "      <td>397.0000</td>\n",
       "      <td>3.7813</td>\n",
       "      <td>&lt;1H OCEAN</td>\n",
       "      <td>146500.0000</td>\n",
       "    </tr>\n",
       "    <tr>\n",
       "      <th>410</th>\n",
       "      <td>-122.4200</td>\n",
       "      <td>40.4400</td>\n",
       "      <td>16.0000</td>\n",
       "      <td>994.0000</td>\n",
       "      <td>435.0000</td>\n",
       "      <td>495.0000</td>\n",
       "      <td>181.0000</td>\n",
       "      <td>2.1875</td>\n",
       "      <td>INLAND</td>\n",
       "      <td>76400.0000</td>\n",
       "    </tr>\n",
       "    <tr>\n",
       "      <th>...</th>\n",
       "      <td>...</td>\n",
       "      <td>...</td>\n",
       "      <td>...</td>\n",
       "      <td>...</td>\n",
       "      <td>...</td>\n",
       "      <td>...</td>\n",
       "      <td>...</td>\n",
       "      <td>...</td>\n",
       "      <td>...</td>\n",
       "      <td>...</td>\n",
       "    </tr>\n",
       "    <tr>\n",
       "      <th>13856</th>\n",
       "      <td>-117.9600</td>\n",
       "      <td>34.0300</td>\n",
       "      <td>35.0000</td>\n",
       "      <td>2093.0000</td>\n",
       "      <td>435.0000</td>\n",
       "      <td>1755.0000</td>\n",
       "      <td>403.0000</td>\n",
       "      <td>3.4115</td>\n",
       "      <td>&lt;1H OCEAN</td>\n",
       "      <td>150400.0000</td>\n",
       "    </tr>\n",
       "    <tr>\n",
       "      <th>13932</th>\n",
       "      <td>-117.8700</td>\n",
       "      <td>33.8300</td>\n",
       "      <td>27.0000</td>\n",
       "      <td>2287.0000</td>\n",
       "      <td>435.0000</td>\n",
       "      <td>1140.0000</td>\n",
       "      <td>351.0000</td>\n",
       "      <td>5.6163</td>\n",
       "      <td>&lt;1H OCEAN</td>\n",
       "      <td>231000.0000</td>\n",
       "    </tr>\n",
       "    <tr>\n",
       "      <th>13989</th>\n",
       "      <td>-118.4000</td>\n",
       "      <td>34.1700</td>\n",
       "      <td>24.0000</td>\n",
       "      <td>6347.0000</td>\n",
       "      <td>435.0000</td>\n",
       "      <td>2945.0000</td>\n",
       "      <td>1492.0000</td>\n",
       "      <td>3.3545</td>\n",
       "      <td>&lt;1H OCEAN</td>\n",
       "      <td>221500.0000</td>\n",
       "    </tr>\n",
       "    <tr>\n",
       "      <th>14308</th>\n",
       "      <td>-118.5500</td>\n",
       "      <td>34.1900</td>\n",
       "      <td>18.0000</td>\n",
       "      <td>5862.0000</td>\n",
       "      <td>435.0000</td>\n",
       "      <td>3161.0000</td>\n",
       "      <td>1280.0000</td>\n",
       "      <td>3.1106</td>\n",
       "      <td>&lt;1H OCEAN</td>\n",
       "      <td>170600.0000</td>\n",
       "    </tr>\n",
       "    <tr>\n",
       "      <th>14445</th>\n",
       "      <td>-121.9000</td>\n",
       "      <td>36.5800</td>\n",
       "      <td>31.0000</td>\n",
       "      <td>1431.0000</td>\n",
       "      <td>435.0000</td>\n",
       "      <td>704.0000</td>\n",
       "      <td>393.0000</td>\n",
       "      <td>3.1977</td>\n",
       "      <td>NEAR OCEAN</td>\n",
       "      <td>289300.0000</td>\n",
       "    </tr>\n",
       "  </tbody>\n",
       "</table>\n",
       "<p>137 rows × 10 columns</p>\n",
       "</div>"
      ],
      "text/plain": [
       "       longitude  latitude  housing_median_age  total_rooms  total_bedrooms  \\\n",
       "88     -121.4700   38.6100             31.0000    1072.0000        435.0000   \n",
       "119    -117.2800   34.2600             18.0000    3895.0000        435.0000   \n",
       "251    -117.6100   34.0800             12.0000    4427.0000        435.0000   \n",
       "340    -122.7000   38.3500             14.0000    2313.0000        435.0000   \n",
       "410    -122.4200   40.4400             16.0000     994.0000        435.0000   \n",
       "...          ...       ...                 ...          ...             ...   \n",
       "13856  -117.9600   34.0300             35.0000    2093.0000        435.0000   \n",
       "13932  -117.8700   33.8300             27.0000    2287.0000        435.0000   \n",
       "13989  -118.4000   34.1700             24.0000    6347.0000        435.0000   \n",
       "14308  -118.5500   34.1900             18.0000    5862.0000        435.0000   \n",
       "14445  -121.9000   36.5800             31.0000    1431.0000        435.0000   \n",
       "\n",
       "       population  households  median_income ocean_proximity  \\\n",
       "88       781.0000    281.0000         1.6563          INLAND   \n",
       "119     1086.0000    375.0000         3.3672          INLAND   \n",
       "251     2400.0000    843.0000         4.7147          INLAND   \n",
       "340      954.0000    397.0000         3.7813       <1H OCEAN   \n",
       "410      495.0000    181.0000         2.1875          INLAND   \n",
       "...           ...         ...            ...             ...   \n",
       "13856   1755.0000    403.0000         3.4115       <1H OCEAN   \n",
       "13932   1140.0000    351.0000         5.6163       <1H OCEAN   \n",
       "13989   2945.0000   1492.0000         3.3545       <1H OCEAN   \n",
       "14308   3161.0000   1280.0000         3.1106       <1H OCEAN   \n",
       "14445    704.0000    393.0000         3.1977      NEAR OCEAN   \n",
       "\n",
       "       median_house_value  \n",
       "88             65800.0000  \n",
       "119           133600.0000  \n",
       "251           158700.0000  \n",
       "340           146500.0000  \n",
       "410            76400.0000  \n",
       "...                   ...  \n",
       "13856         150400.0000  \n",
       "13932         231000.0000  \n",
       "13989         221500.0000  \n",
       "14308         170600.0000  \n",
       "14445         289300.0000  \n",
       "\n",
       "[137 rows x 10 columns]"
      ]
     },
     "execution_count": 14,
     "metadata": {},
     "output_type": "execute_result"
    }
   ],
   "source": [
    "#Impute the median\n",
    "df_copy['total_bedrooms'].fillna(med,inplace=True)\n",
    "#Data updated NaN to Median values.\n",
    "df_copy[bool_series]"
   ]
  },
  {
   "cell_type": "code",
   "execution_count": 15,
   "metadata": {},
   "outputs": [
    {
     "name": "stdout",
     "output_type": "stream",
     "text": [
      "<class 'pandas.core.frame.DataFrame'>\n",
      "RangeIndex: 14448 entries, 0 to 14447\n",
      "Data columns (total 10 columns):\n",
      " #   Column              Non-Null Count  Dtype  \n",
      "---  ------              --------------  -----  \n",
      " 0   longitude           14448 non-null  float64\n",
      " 1   latitude            14448 non-null  float64\n",
      " 2   housing_median_age  14448 non-null  float64\n",
      " 3   total_rooms         14448 non-null  float64\n",
      " 4   total_bedrooms      14448 non-null  float64\n",
      " 5   population          14448 non-null  float64\n",
      " 6   households          14448 non-null  float64\n",
      " 7   median_income       14448 non-null  float64\n",
      " 8   ocean_proximity     14448 non-null  object \n",
      " 9   median_house_value  14448 non-null  float64\n",
      "dtypes: float64(9), object(1)\n",
      "memory usage: 1.1+ MB\n"
     ]
    }
   ],
   "source": [
    "#checking the imputation is success or no\n",
    "df_copy.info()"
   ]
  },
  {
   "attachments": {},
   "cell_type": "markdown",
   "metadata": {},
   "source": [
    "Pengubahan nama feature tanpa simbol"
   ]
  },
  {
   "cell_type": "code",
   "execution_count": 16,
   "metadata": {},
   "outputs": [],
   "source": [
    "df_copy =df_copy.rename(columns={'longitude' : 'Longitude',\n",
    "                                   'latitude':'Latitude',\n",
    "                                   'housing_median_age':'Housing Median Age',\n",
    "                                   'total_rooms':'Total Rooms',\n",
    "                                   'total_bedrooms':'Total Bedrooms',\n",
    "                                   'population':'Population',\n",
    "                                   'households':'HouseHolds',\n",
    "                                   'median_income':'Median Income',\n",
    "                                   'ocean_proximity': 'Ocean Proximity',\n",
    "                                   'median_house_value':'Median House Value',\n",
    "                                   })"
   ]
  },
  {
   "attachments": {},
   "cell_type": "markdown",
   "metadata": {},
   "source": [
    "Pengecekkan values dan typo"
   ]
  },
  {
   "cell_type": "code",
   "execution_count": 17,
   "metadata": {},
   "outputs": [
    {
     "data": {
      "text/plain": [
       "Index(['Longitude', 'Latitude', 'Housing Median Age', 'Total Rooms',\n",
       "       'Total Bedrooms', 'Population', 'HouseHolds', 'Median Income',\n",
       "       'Ocean Proximity', 'Median House Value'],\n",
       "      dtype='object')"
      ]
     },
     "execution_count": 17,
     "metadata": {},
     "output_type": "execute_result"
    }
   ],
   "source": [
    "df_copy.columns"
   ]
  },
  {
   "attachments": {},
   "cell_type": "markdown",
   "metadata": {},
   "source": [
    "Pengecekkan duplikkat"
   ]
  },
  {
   "cell_type": "code",
   "execution_count": 18,
   "metadata": {},
   "outputs": [
    {
     "name": "stdout",
     "output_type": "stream",
     "text": [
      "Data terduplikat =  0\n"
     ]
    }
   ],
   "source": [
    "duplicated = df_copy.duplicated().sum()\n",
    "print('Data terduplikat = ', duplicated)"
   ]
  },
  {
   "cell_type": "code",
   "execution_count": 19,
   "metadata": {},
   "outputs": [],
   "source": [
    "# copy the dataset already clean\n",
    "df_clean = df_copy.copy()"
   ]
  },
  {
   "cell_type": "code",
   "execution_count": 20,
   "metadata": {},
   "outputs": [
    {
     "name": "stdout",
     "output_type": "stream",
     "text": [
      "<class 'pandas.core.frame.DataFrame'>\n",
      "RangeIndex: 14448 entries, 0 to 14447\n",
      "Data columns (total 10 columns):\n",
      " #   Column              Non-Null Count  Dtype  \n",
      "---  ------              --------------  -----  \n",
      " 0   Longitude           14448 non-null  float64\n",
      " 1   Latitude            14448 non-null  float64\n",
      " 2   Housing Median Age  14448 non-null  float64\n",
      " 3   Total Rooms         14448 non-null  float64\n",
      " 4   Total Bedrooms      14448 non-null  float64\n",
      " 5   Population          14448 non-null  float64\n",
      " 6   HouseHolds          14448 non-null  float64\n",
      " 7   Median Income       14448 non-null  float64\n",
      " 8   Ocean Proximity     14448 non-null  object \n",
      " 9   Median House Value  14448 non-null  float64\n",
      "dtypes: float64(9), object(1)\n",
      "memory usage: 1.1+ MB\n"
     ]
    }
   ],
   "source": [
    "df_clean.info()"
   ]
  },
  {
   "attachments": {},
   "cell_type": "markdown",
   "metadata": {},
   "source": [
    "Encoding Ocean Proximity\n",
    "\n",
    "Karena fitur Ocean Proximity memiliki type object (kategorikal), maka perlunya encoding fitur Ocean Proximity untuk memudahkan proses regresi."
   ]
  },
  {
   "cell_type": "code",
   "execution_count": 21,
   "metadata": {},
   "outputs": [
    {
     "data": {
      "text/html": [
       "<div>\n",
       "<style scoped>\n",
       "    .dataframe tbody tr th:only-of-type {\n",
       "        vertical-align: middle;\n",
       "    }\n",
       "\n",
       "    .dataframe tbody tr th {\n",
       "        vertical-align: top;\n",
       "    }\n",
       "\n",
       "    .dataframe thead th {\n",
       "        text-align: right;\n",
       "    }\n",
       "</style>\n",
       "<table border=\"1\" class=\"dataframe\">\n",
       "  <thead>\n",
       "    <tr style=\"text-align: right;\">\n",
       "      <th></th>\n",
       "      <th>Longitude</th>\n",
       "      <th>Latitude</th>\n",
       "      <th>Housing Median Age</th>\n",
       "      <th>Total Rooms</th>\n",
       "      <th>Total Bedrooms</th>\n",
       "      <th>Population</th>\n",
       "      <th>HouseHolds</th>\n",
       "      <th>Median Income</th>\n",
       "      <th>Ocean Proximity</th>\n",
       "      <th>Median House Value</th>\n",
       "      <th>Ocean Proximity_&lt;1H OCEAN</th>\n",
       "      <th>Ocean Proximity_INLAND</th>\n",
       "      <th>Ocean Proximity_ISLAND</th>\n",
       "      <th>Ocean Proximity_NEAR BAY</th>\n",
       "      <th>Ocean Proximity_NEAR OCEAN</th>\n",
       "    </tr>\n",
       "  </thead>\n",
       "  <tbody>\n",
       "    <tr>\n",
       "      <th>0</th>\n",
       "      <td>-119.7900</td>\n",
       "      <td>36.7300</td>\n",
       "      <td>52.0000</td>\n",
       "      <td>112.0000</td>\n",
       "      <td>28.0000</td>\n",
       "      <td>193.0000</td>\n",
       "      <td>40.0000</td>\n",
       "      <td>1.9750</td>\n",
       "      <td>INLAND</td>\n",
       "      <td>47500.0000</td>\n",
       "      <td>0</td>\n",
       "      <td>1</td>\n",
       "      <td>0</td>\n",
       "      <td>0</td>\n",
       "      <td>0</td>\n",
       "    </tr>\n",
       "    <tr>\n",
       "      <th>1</th>\n",
       "      <td>-122.2100</td>\n",
       "      <td>37.7700</td>\n",
       "      <td>43.0000</td>\n",
       "      <td>1017.0000</td>\n",
       "      <td>328.0000</td>\n",
       "      <td>836.0000</td>\n",
       "      <td>277.0000</td>\n",
       "      <td>2.2604</td>\n",
       "      <td>NEAR BAY</td>\n",
       "      <td>100000.0000</td>\n",
       "      <td>0</td>\n",
       "      <td>0</td>\n",
       "      <td>0</td>\n",
       "      <td>1</td>\n",
       "      <td>0</td>\n",
       "    </tr>\n",
       "    <tr>\n",
       "      <th>2</th>\n",
       "      <td>-118.0400</td>\n",
       "      <td>33.8700</td>\n",
       "      <td>17.0000</td>\n",
       "      <td>2358.0000</td>\n",
       "      <td>396.0000</td>\n",
       "      <td>1387.0000</td>\n",
       "      <td>364.0000</td>\n",
       "      <td>6.2990</td>\n",
       "      <td>&lt;1H OCEAN</td>\n",
       "      <td>285800.0000</td>\n",
       "      <td>1</td>\n",
       "      <td>0</td>\n",
       "      <td>0</td>\n",
       "      <td>0</td>\n",
       "      <td>0</td>\n",
       "    </tr>\n",
       "    <tr>\n",
       "      <th>3</th>\n",
       "      <td>-118.2800</td>\n",
       "      <td>34.0600</td>\n",
       "      <td>17.0000</td>\n",
       "      <td>2518.0000</td>\n",
       "      <td>1196.0000</td>\n",
       "      <td>3051.0000</td>\n",
       "      <td>1000.0000</td>\n",
       "      <td>1.7199</td>\n",
       "      <td>&lt;1H OCEAN</td>\n",
       "      <td>175000.0000</td>\n",
       "      <td>1</td>\n",
       "      <td>0</td>\n",
       "      <td>0</td>\n",
       "      <td>0</td>\n",
       "      <td>0</td>\n",
       "    </tr>\n",
       "    <tr>\n",
       "      <th>4</th>\n",
       "      <td>-119.8100</td>\n",
       "      <td>36.7300</td>\n",
       "      <td>50.0000</td>\n",
       "      <td>772.0000</td>\n",
       "      <td>194.0000</td>\n",
       "      <td>606.0000</td>\n",
       "      <td>167.0000</td>\n",
       "      <td>2.2206</td>\n",
       "      <td>INLAND</td>\n",
       "      <td>59200.0000</td>\n",
       "      <td>0</td>\n",
       "      <td>1</td>\n",
       "      <td>0</td>\n",
       "      <td>0</td>\n",
       "      <td>0</td>\n",
       "    </tr>\n",
       "    <tr>\n",
       "      <th>...</th>\n",
       "      <td>...</td>\n",
       "      <td>...</td>\n",
       "      <td>...</td>\n",
       "      <td>...</td>\n",
       "      <td>...</td>\n",
       "      <td>...</td>\n",
       "      <td>...</td>\n",
       "      <td>...</td>\n",
       "      <td>...</td>\n",
       "      <td>...</td>\n",
       "      <td>...</td>\n",
       "      <td>...</td>\n",
       "      <td>...</td>\n",
       "      <td>...</td>\n",
       "      <td>...</td>\n",
       "    </tr>\n",
       "    <tr>\n",
       "      <th>14443</th>\n",
       "      <td>-121.2600</td>\n",
       "      <td>38.2700</td>\n",
       "      <td>20.0000</td>\n",
       "      <td>1314.0000</td>\n",
       "      <td>229.0000</td>\n",
       "      <td>712.0000</td>\n",
       "      <td>219.0000</td>\n",
       "      <td>4.4125</td>\n",
       "      <td>INLAND</td>\n",
       "      <td>144600.0000</td>\n",
       "      <td>0</td>\n",
       "      <td>1</td>\n",
       "      <td>0</td>\n",
       "      <td>0</td>\n",
       "      <td>0</td>\n",
       "    </tr>\n",
       "    <tr>\n",
       "      <th>14444</th>\n",
       "      <td>-120.8900</td>\n",
       "      <td>37.4800</td>\n",
       "      <td>27.0000</td>\n",
       "      <td>1118.0000</td>\n",
       "      <td>195.0000</td>\n",
       "      <td>647.0000</td>\n",
       "      <td>209.0000</td>\n",
       "      <td>2.9135</td>\n",
       "      <td>INLAND</td>\n",
       "      <td>159400.0000</td>\n",
       "      <td>0</td>\n",
       "      <td>1</td>\n",
       "      <td>0</td>\n",
       "      <td>0</td>\n",
       "      <td>0</td>\n",
       "    </tr>\n",
       "    <tr>\n",
       "      <th>14445</th>\n",
       "      <td>-121.9000</td>\n",
       "      <td>36.5800</td>\n",
       "      <td>31.0000</td>\n",
       "      <td>1431.0000</td>\n",
       "      <td>435.0000</td>\n",
       "      <td>704.0000</td>\n",
       "      <td>393.0000</td>\n",
       "      <td>3.1977</td>\n",
       "      <td>NEAR OCEAN</td>\n",
       "      <td>289300.0000</td>\n",
       "      <td>0</td>\n",
       "      <td>0</td>\n",
       "      <td>0</td>\n",
       "      <td>0</td>\n",
       "      <td>1</td>\n",
       "    </tr>\n",
       "    <tr>\n",
       "      <th>14446</th>\n",
       "      <td>-117.9300</td>\n",
       "      <td>33.6200</td>\n",
       "      <td>34.0000</td>\n",
       "      <td>2125.0000</td>\n",
       "      <td>498.0000</td>\n",
       "      <td>1052.0000</td>\n",
       "      <td>468.0000</td>\n",
       "      <td>5.6315</td>\n",
       "      <td>&lt;1H OCEAN</td>\n",
       "      <td>484600.0000</td>\n",
       "      <td>1</td>\n",
       "      <td>0</td>\n",
       "      <td>0</td>\n",
       "      <td>0</td>\n",
       "      <td>0</td>\n",
       "    </tr>\n",
       "    <tr>\n",
       "      <th>14447</th>\n",
       "      <td>-115.5600</td>\n",
       "      <td>32.8000</td>\n",
       "      <td>15.0000</td>\n",
       "      <td>1171.0000</td>\n",
       "      <td>328.0000</td>\n",
       "      <td>1024.0000</td>\n",
       "      <td>298.0000</td>\n",
       "      <td>1.3882</td>\n",
       "      <td>INLAND</td>\n",
       "      <td>69400.0000</td>\n",
       "      <td>0</td>\n",
       "      <td>1</td>\n",
       "      <td>0</td>\n",
       "      <td>0</td>\n",
       "      <td>0</td>\n",
       "    </tr>\n",
       "  </tbody>\n",
       "</table>\n",
       "<p>14448 rows × 15 columns</p>\n",
       "</div>"
      ],
      "text/plain": [
       "       Longitude  Latitude  Housing Median Age  Total Rooms  Total Bedrooms  \\\n",
       "0      -119.7900   36.7300             52.0000     112.0000         28.0000   \n",
       "1      -122.2100   37.7700             43.0000    1017.0000        328.0000   \n",
       "2      -118.0400   33.8700             17.0000    2358.0000        396.0000   \n",
       "3      -118.2800   34.0600             17.0000    2518.0000       1196.0000   \n",
       "4      -119.8100   36.7300             50.0000     772.0000        194.0000   \n",
       "...          ...       ...                 ...          ...             ...   \n",
       "14443  -121.2600   38.2700             20.0000    1314.0000        229.0000   \n",
       "14444  -120.8900   37.4800             27.0000    1118.0000        195.0000   \n",
       "14445  -121.9000   36.5800             31.0000    1431.0000        435.0000   \n",
       "14446  -117.9300   33.6200             34.0000    2125.0000        498.0000   \n",
       "14447  -115.5600   32.8000             15.0000    1171.0000        328.0000   \n",
       "\n",
       "       Population  HouseHolds  Median Income Ocean Proximity  \\\n",
       "0        193.0000     40.0000         1.9750          INLAND   \n",
       "1        836.0000    277.0000         2.2604        NEAR BAY   \n",
       "2       1387.0000    364.0000         6.2990       <1H OCEAN   \n",
       "3       3051.0000   1000.0000         1.7199       <1H OCEAN   \n",
       "4        606.0000    167.0000         2.2206          INLAND   \n",
       "...           ...         ...            ...             ...   \n",
       "14443    712.0000    219.0000         4.4125          INLAND   \n",
       "14444    647.0000    209.0000         2.9135          INLAND   \n",
       "14445    704.0000    393.0000         3.1977      NEAR OCEAN   \n",
       "14446   1052.0000    468.0000         5.6315       <1H OCEAN   \n",
       "14447   1024.0000    298.0000         1.3882          INLAND   \n",
       "\n",
       "       Median House Value  Ocean Proximity_<1H OCEAN  Ocean Proximity_INLAND  \\\n",
       "0              47500.0000                          0                       1   \n",
       "1             100000.0000                          0                       0   \n",
       "2             285800.0000                          1                       0   \n",
       "3             175000.0000                          1                       0   \n",
       "4              59200.0000                          0                       1   \n",
       "...                   ...                        ...                     ...   \n",
       "14443         144600.0000                          0                       1   \n",
       "14444         159400.0000                          0                       1   \n",
       "14445         289300.0000                          0                       0   \n",
       "14446         484600.0000                          1                       0   \n",
       "14447          69400.0000                          0                       1   \n",
       "\n",
       "       Ocean Proximity_ISLAND  Ocean Proximity_NEAR BAY  \\\n",
       "0                           0                         0   \n",
       "1                           0                         1   \n",
       "2                           0                         0   \n",
       "3                           0                         0   \n",
       "4                           0                         0   \n",
       "...                       ...                       ...   \n",
       "14443                       0                         0   \n",
       "14444                       0                         0   \n",
       "14445                       0                         0   \n",
       "14446                       0                         0   \n",
       "14447                       0                         0   \n",
       "\n",
       "       Ocean Proximity_NEAR OCEAN  \n",
       "0                               0  \n",
       "1                               0  \n",
       "2                               0  \n",
       "3                               0  \n",
       "4                               0  \n",
       "...                           ...  \n",
       "14443                           0  \n",
       "14444                           0  \n",
       "14445                           1  \n",
       "14446                           0  \n",
       "14447                           0  \n",
       "\n",
       "[14448 rows x 15 columns]"
      ]
     },
     "execution_count": 21,
     "metadata": {},
     "output_type": "execute_result"
    }
   ],
   "source": [
    "dum_df = pd.get_dummies(df_clean, columns=['Ocean Proximity'], prefix = ['Ocean Proximity'])\n",
    "df_clean = df_clean.merge(dum_df)\n",
    "df_clean"
   ]
  },
  {
   "cell_type": "code",
   "execution_count": 22,
   "metadata": {},
   "outputs": [],
   "source": [
    "df_clean = df_clean.rename(columns={'Ocean Proximity_<1H OCEAN':'Ocean Proximity 1H',\n",
    "                                   'Ocean Proximity_INLAND': 'Ocean Proximity Inland',\n",
    "                                   'Ocean Proximity_ISLAND': 'Ocean Proximity Island',\n",
    "                                   'Ocean Proximity_NEAR BAY':'Ocean Proximity Near Bay',\n",
    "                                   'Ocean Proximity_NEAR OCEAN':'Ocean Proximity Near Ocean'})"
   ]
  },
  {
   "cell_type": "code",
   "execution_count": 23,
   "metadata": {},
   "outputs": [
    {
     "name": "stdout",
     "output_type": "stream",
     "text": [
      "<class 'pandas.core.frame.DataFrame'>\n",
      "Int64Index: 14448 entries, 0 to 14447\n",
      "Data columns (total 15 columns):\n",
      " #   Column                      Non-Null Count  Dtype  \n",
      "---  ------                      --------------  -----  \n",
      " 0   Longitude                   14448 non-null  float64\n",
      " 1   Latitude                    14448 non-null  float64\n",
      " 2   Housing Median Age          14448 non-null  float64\n",
      " 3   Total Rooms                 14448 non-null  float64\n",
      " 4   Total Bedrooms              14448 non-null  float64\n",
      " 5   Population                  14448 non-null  float64\n",
      " 6   HouseHolds                  14448 non-null  float64\n",
      " 7   Median Income               14448 non-null  float64\n",
      " 8   Ocean Proximity             14448 non-null  object \n",
      " 9   Median House Value          14448 non-null  float64\n",
      " 10  Ocean Proximity 1H          14448 non-null  uint8  \n",
      " 11  Ocean Proximity Inland      14448 non-null  uint8  \n",
      " 12  Ocean Proximity Island      14448 non-null  uint8  \n",
      " 13  Ocean Proximity Near Bay    14448 non-null  uint8  \n",
      " 14  Ocean Proximity Near Ocean  14448 non-null  uint8  \n",
      "dtypes: float64(9), object(1), uint8(5)\n",
      "memory usage: 1.3+ MB\n"
     ]
    }
   ],
   "source": [
    "df_clean.info()"
   ]
  },
  {
   "attachments": {},
   "cell_type": "markdown",
   "metadata": {},
   "source": [
    "Pemisahan data numerikal dan kategorikal"
   ]
  },
  {
   "cell_type": "code",
   "execution_count": 24,
   "metadata": {},
   "outputs": [
    {
     "name": "stdout",
     "output_type": "stream",
     "text": [
      "Number of numerical variables:  14\n"
     ]
    },
    {
     "data": {
      "text/html": [
       "<div>\n",
       "<style scoped>\n",
       "    .dataframe tbody tr th:only-of-type {\n",
       "        vertical-align: middle;\n",
       "    }\n",
       "\n",
       "    .dataframe tbody tr th {\n",
       "        vertical-align: top;\n",
       "    }\n",
       "\n",
       "    .dataframe thead th {\n",
       "        text-align: right;\n",
       "    }\n",
       "</style>\n",
       "<table border=\"1\" class=\"dataframe\">\n",
       "  <thead>\n",
       "    <tr style=\"text-align: right;\">\n",
       "      <th></th>\n",
       "      <th>Longitude</th>\n",
       "      <th>Latitude</th>\n",
       "      <th>Housing Median Age</th>\n",
       "      <th>Total Rooms</th>\n",
       "      <th>Total Bedrooms</th>\n",
       "      <th>Population</th>\n",
       "      <th>HouseHolds</th>\n",
       "      <th>Median Income</th>\n",
       "      <th>Median House Value</th>\n",
       "      <th>Ocean Proximity 1H</th>\n",
       "      <th>Ocean Proximity Inland</th>\n",
       "      <th>Ocean Proximity Island</th>\n",
       "      <th>Ocean Proximity Near Bay</th>\n",
       "      <th>Ocean Proximity Near Ocean</th>\n",
       "    </tr>\n",
       "  </thead>\n",
       "  <tbody>\n",
       "    <tr>\n",
       "      <th>0</th>\n",
       "      <td>-119.7900</td>\n",
       "      <td>36.7300</td>\n",
       "      <td>52.0000</td>\n",
       "      <td>112.0000</td>\n",
       "      <td>28.0000</td>\n",
       "      <td>193.0000</td>\n",
       "      <td>40.0000</td>\n",
       "      <td>1.9750</td>\n",
       "      <td>47500.0000</td>\n",
       "      <td>0</td>\n",
       "      <td>1</td>\n",
       "      <td>0</td>\n",
       "      <td>0</td>\n",
       "      <td>0</td>\n",
       "    </tr>\n",
       "    <tr>\n",
       "      <th>1</th>\n",
       "      <td>-122.2100</td>\n",
       "      <td>37.7700</td>\n",
       "      <td>43.0000</td>\n",
       "      <td>1017.0000</td>\n",
       "      <td>328.0000</td>\n",
       "      <td>836.0000</td>\n",
       "      <td>277.0000</td>\n",
       "      <td>2.2604</td>\n",
       "      <td>100000.0000</td>\n",
       "      <td>0</td>\n",
       "      <td>0</td>\n",
       "      <td>0</td>\n",
       "      <td>1</td>\n",
       "      <td>0</td>\n",
       "    </tr>\n",
       "    <tr>\n",
       "      <th>2</th>\n",
       "      <td>-118.0400</td>\n",
       "      <td>33.8700</td>\n",
       "      <td>17.0000</td>\n",
       "      <td>2358.0000</td>\n",
       "      <td>396.0000</td>\n",
       "      <td>1387.0000</td>\n",
       "      <td>364.0000</td>\n",
       "      <td>6.2990</td>\n",
       "      <td>285800.0000</td>\n",
       "      <td>1</td>\n",
       "      <td>0</td>\n",
       "      <td>0</td>\n",
       "      <td>0</td>\n",
       "      <td>0</td>\n",
       "    </tr>\n",
       "    <tr>\n",
       "      <th>3</th>\n",
       "      <td>-118.2800</td>\n",
       "      <td>34.0600</td>\n",
       "      <td>17.0000</td>\n",
       "      <td>2518.0000</td>\n",
       "      <td>1196.0000</td>\n",
       "      <td>3051.0000</td>\n",
       "      <td>1000.0000</td>\n",
       "      <td>1.7199</td>\n",
       "      <td>175000.0000</td>\n",
       "      <td>1</td>\n",
       "      <td>0</td>\n",
       "      <td>0</td>\n",
       "      <td>0</td>\n",
       "      <td>0</td>\n",
       "    </tr>\n",
       "    <tr>\n",
       "      <th>4</th>\n",
       "      <td>-119.8100</td>\n",
       "      <td>36.7300</td>\n",
       "      <td>50.0000</td>\n",
       "      <td>772.0000</td>\n",
       "      <td>194.0000</td>\n",
       "      <td>606.0000</td>\n",
       "      <td>167.0000</td>\n",
       "      <td>2.2206</td>\n",
       "      <td>59200.0000</td>\n",
       "      <td>0</td>\n",
       "      <td>1</td>\n",
       "      <td>0</td>\n",
       "      <td>0</td>\n",
       "      <td>0</td>\n",
       "    </tr>\n",
       "  </tbody>\n",
       "</table>\n",
       "</div>"
      ],
      "text/plain": [
       "   Longitude  Latitude  Housing Median Age  Total Rooms  Total Bedrooms  \\\n",
       "0  -119.7900   36.7300             52.0000     112.0000         28.0000   \n",
       "1  -122.2100   37.7700             43.0000    1017.0000        328.0000   \n",
       "2  -118.0400   33.8700             17.0000    2358.0000        396.0000   \n",
       "3  -118.2800   34.0600             17.0000    2518.0000       1196.0000   \n",
       "4  -119.8100   36.7300             50.0000     772.0000        194.0000   \n",
       "\n",
       "   Population  HouseHolds  Median Income  Median House Value  \\\n",
       "0    193.0000     40.0000         1.9750          47500.0000   \n",
       "1    836.0000    277.0000         2.2604         100000.0000   \n",
       "2   1387.0000    364.0000         6.2990         285800.0000   \n",
       "3   3051.0000   1000.0000         1.7199         175000.0000   \n",
       "4    606.0000    167.0000         2.2206          59200.0000   \n",
       "\n",
       "   Ocean Proximity 1H  Ocean Proximity Inland  Ocean Proximity Island  \\\n",
       "0                   0                       1                       0   \n",
       "1                   0                       0                       0   \n",
       "2                   1                       0                       0   \n",
       "3                   1                       0                       0   \n",
       "4                   0                       1                       0   \n",
       "\n",
       "   Ocean Proximity Near Bay  Ocean Proximity Near Ocean  \n",
       "0                         0                           0  \n",
       "1                         1                           0  \n",
       "2                         0                           0  \n",
       "3                         0                           0  \n",
       "4                         0                           0  "
      ]
     },
     "execution_count": 24,
     "metadata": {},
     "output_type": "execute_result"
    }
   ],
   "source": [
    "numerical_features = [feature for feature in df_clean.columns if df_clean[feature].dtypes != 'O']\n",
    "print('Number of numerical variables: ', len(numerical_features))\n",
    "\n",
    "#visualise the numerical variables\n",
    "df_clean[numerical_features].head()"
   ]
  },
  {
   "cell_type": "code",
   "execution_count": 25,
   "metadata": {},
   "outputs": [
    {
     "name": "stdout",
     "output_type": "stream",
     "text": [
      "Discrete Variables Count: 5\n"
     ]
    }
   ],
   "source": [
    "discrete_feature = [feature for feature in numerical_features if len(df_clean[feature].unique())<25]\n",
    "print('Discrete Variables Count: {}'.format(len(discrete_feature)))"
   ]
  },
  {
   "cell_type": "code",
   "execution_count": 26,
   "metadata": {},
   "outputs": [
    {
     "name": "stdout",
     "output_type": "stream",
     "text": [
      "Continous Variables Count: 9\n"
     ]
    }
   ],
   "source": [
    "continous_feature = [feature for feature in numerical_features if feature not in discrete_feature]\n",
    "print('Continous Variables Count: {}'.format(len(continous_feature)))"
   ]
  },
  {
   "cell_type": "code",
   "execution_count": 27,
   "metadata": {},
   "outputs": [
    {
     "data": {
      "image/png": "[encoded data removed]",
      "text/plain": [
       "<Figure size 3000x3000 with 15 Axes>"
      ]
     },
     "metadata": {},
     "output_type": "display_data"
    }
   ],
   "source": [
    "#boxplot, checking outliers\n",
    "fig,axes = plt.subplots(nrows=3, ncols=5, figsize=(30,30))\n",
    "for a, el in enumerate(numerical_features):\n",
    "    i = df_clean.boxplot(el, ax=axes.flatten()[a], grid=False)\n",
    "plt.show()"
   ]
  },
  {
   "attachments": {},
   "cell_type": "markdown",
   "metadata": {},
   "source": [
    "Boxplot\n",
    "\n",
    "Seluruh data  penting dan dibutuhkan dalam membuat model linear regresi sehingga tidak dilakukan perlakuan apapun terhadap outlier"
   ]
  },
  {
   "attachments": {},
   "cell_type": "markdown",
   "metadata": {},
   "source": [
    "# Exploratory Data Analysis"
   ]
  },
  {
   "attachments": {},
   "cell_type": "markdown",
   "metadata": {},
   "source": [
    "## Descriptive Statistics\n",
    "1. Categorical Feature"
   ]
  },
  {
   "cell_type": "code",
   "execution_count": 28,
   "metadata": {},
   "outputs": [
    {
     "data": {
      "text/html": [
       "<div>\n",
       "<style scoped>\n",
       "    .dataframe tbody tr th:only-of-type {\n",
       "        vertical-align: middle;\n",
       "    }\n",
       "\n",
       "    .dataframe tbody tr th {\n",
       "        vertical-align: top;\n",
       "    }\n",
       "\n",
       "    .dataframe thead th {\n",
       "        text-align: right;\n",
       "    }\n",
       "</style>\n",
       "<table border=\"1\" class=\"dataframe\">\n",
       "  <thead>\n",
       "    <tr style=\"text-align: right;\">\n",
       "      <th></th>\n",
       "      <th>Ocean Proximity</th>\n",
       "    </tr>\n",
       "  </thead>\n",
       "  <tbody>\n",
       "    <tr>\n",
       "      <th>count</th>\n",
       "      <td>14448</td>\n",
       "    </tr>\n",
       "    <tr>\n",
       "      <th>unique</th>\n",
       "      <td>5</td>\n",
       "    </tr>\n",
       "    <tr>\n",
       "      <th>top</th>\n",
       "      <td>&lt;1H OCEAN</td>\n",
       "    </tr>\n",
       "    <tr>\n",
       "      <th>freq</th>\n",
       "      <td>6369</td>\n",
       "    </tr>\n",
       "  </tbody>\n",
       "</table>\n",
       "</div>"
      ],
      "text/plain": [
       "       Ocean Proximity\n",
       "count            14448\n",
       "unique               5\n",
       "top          <1H OCEAN\n",
       "freq              6369"
      ]
     },
     "execution_count": 28,
     "metadata": {},
     "output_type": "execute_result"
    }
   ],
   "source": [
    "categorical_column = ['Ocean Proximity']\n",
    "df_clean[categorical_column].describe()"
   ]
  },
  {
   "attachments": {},
   "cell_type": "markdown",
   "metadata": {},
   "source": [
    "2. Numerical Features"
   ]
  },
  {
   "cell_type": "code",
   "execution_count": 29,
   "metadata": {},
   "outputs": [
    {
     "data": {
      "text/html": [
       "<div>\n",
       "<style scoped>\n",
       "    .dataframe tbody tr th:only-of-type {\n",
       "        vertical-align: middle;\n",
       "    }\n",
       "\n",
       "    .dataframe tbody tr th {\n",
       "        vertical-align: top;\n",
       "    }\n",
       "\n",
       "    .dataframe thead th {\n",
       "        text-align: right;\n",
       "    }\n",
       "</style>\n",
       "<table border=\"1\" class=\"dataframe\">\n",
       "  <thead>\n",
       "    <tr style=\"text-align: right;\">\n",
       "      <th></th>\n",
       "      <th>Longitude</th>\n",
       "      <th>Latitude</th>\n",
       "      <th>Housing Median Age</th>\n",
       "      <th>Total Rooms</th>\n",
       "      <th>Total Bedrooms</th>\n",
       "      <th>Population</th>\n",
       "      <th>HouseHolds</th>\n",
       "      <th>Median Income</th>\n",
       "      <th>Median House Value</th>\n",
       "      <th>Ocean Proximity 1H</th>\n",
       "      <th>Ocean Proximity Inland</th>\n",
       "      <th>Ocean Proximity Island</th>\n",
       "      <th>Ocean Proximity Near Bay</th>\n",
       "      <th>Ocean Proximity Near Ocean</th>\n",
       "    </tr>\n",
       "  </thead>\n",
       "  <tbody>\n",
       "    <tr>\n",
       "      <th>count</th>\n",
       "      <td>14448.0000</td>\n",
       "      <td>14448.0000</td>\n",
       "      <td>14448.0000</td>\n",
       "      <td>14448.0000</td>\n",
       "      <td>14448.0000</td>\n",
       "      <td>14448.0000</td>\n",
       "      <td>14448.0000</td>\n",
       "      <td>14448.0000</td>\n",
       "      <td>14448.0000</td>\n",
       "      <td>14448.0000</td>\n",
       "      <td>14448.0000</td>\n",
       "      <td>14448.0000</td>\n",
       "      <td>14448.0000</td>\n",
       "      <td>14448.0000</td>\n",
       "    </tr>\n",
       "    <tr>\n",
       "      <th>mean</th>\n",
       "      <td>-119.5700</td>\n",
       "      <td>35.6300</td>\n",
       "      <td>28.6200</td>\n",
       "      <td>2640.1300</td>\n",
       "      <td>537.2800</td>\n",
       "      <td>1425.1600</td>\n",
       "      <td>499.5100</td>\n",
       "      <td>3.8700</td>\n",
       "      <td>206824.6200</td>\n",
       "      <td>0.4400</td>\n",
       "      <td>0.3200</td>\n",
       "      <td>0.0000</td>\n",
       "      <td>0.1100</td>\n",
       "      <td>0.1300</td>\n",
       "    </tr>\n",
       "    <tr>\n",
       "      <th>std</th>\n",
       "      <td>2.0100</td>\n",
       "      <td>2.1400</td>\n",
       "      <td>12.6000</td>\n",
       "      <td>2191.6100</td>\n",
       "      <td>421.6800</td>\n",
       "      <td>1149.5800</td>\n",
       "      <td>383.1000</td>\n",
       "      <td>1.8900</td>\n",
       "      <td>115365.4800</td>\n",
       "      <td>0.5000</td>\n",
       "      <td>0.4700</td>\n",
       "      <td>0.0100</td>\n",
       "      <td>0.3200</td>\n",
       "      <td>0.3400</td>\n",
       "    </tr>\n",
       "    <tr>\n",
       "      <th>min</th>\n",
       "      <td>-124.3500</td>\n",
       "      <td>32.5400</td>\n",
       "      <td>1.0000</td>\n",
       "      <td>2.0000</td>\n",
       "      <td>1.0000</td>\n",
       "      <td>3.0000</td>\n",
       "      <td>1.0000</td>\n",
       "      <td>0.5000</td>\n",
       "      <td>14999.0000</td>\n",
       "      <td>0.0000</td>\n",
       "      <td>0.0000</td>\n",
       "      <td>0.0000</td>\n",
       "      <td>0.0000</td>\n",
       "      <td>0.0000</td>\n",
       "    </tr>\n",
       "    <tr>\n",
       "      <th>25%</th>\n",
       "      <td>-121.8000</td>\n",
       "      <td>33.9300</td>\n",
       "      <td>18.0000</td>\n",
       "      <td>1451.0000</td>\n",
       "      <td>296.0000</td>\n",
       "      <td>784.0000</td>\n",
       "      <td>279.0000</td>\n",
       "      <td>2.5700</td>\n",
       "      <td>119600.0000</td>\n",
       "      <td>0.0000</td>\n",
       "      <td>0.0000</td>\n",
       "      <td>0.0000</td>\n",
       "      <td>0.0000</td>\n",
       "      <td>0.0000</td>\n",
       "    </tr>\n",
       "    <tr>\n",
       "      <th>50%</th>\n",
       "      <td>-118.4900</td>\n",
       "      <td>34.2600</td>\n",
       "      <td>29.0000</td>\n",
       "      <td>2125.0000</td>\n",
       "      <td>435.0000</td>\n",
       "      <td>1165.0000</td>\n",
       "      <td>410.0000</td>\n",
       "      <td>3.5400</td>\n",
       "      <td>180000.0000</td>\n",
       "      <td>0.0000</td>\n",
       "      <td>0.0000</td>\n",
       "      <td>0.0000</td>\n",
       "      <td>0.0000</td>\n",
       "      <td>0.0000</td>\n",
       "    </tr>\n",
       "    <tr>\n",
       "      <th>75%</th>\n",
       "      <td>-118.0000</td>\n",
       "      <td>37.7100</td>\n",
       "      <td>37.0000</td>\n",
       "      <td>3148.0000</td>\n",
       "      <td>645.0000</td>\n",
       "      <td>1724.0000</td>\n",
       "      <td>604.0000</td>\n",
       "      <td>4.7400</td>\n",
       "      <td>263900.0000</td>\n",
       "      <td>1.0000</td>\n",
       "      <td>1.0000</td>\n",
       "      <td>0.0000</td>\n",
       "      <td>0.0000</td>\n",
       "      <td>0.0000</td>\n",
       "    </tr>\n",
       "    <tr>\n",
       "      <th>max</th>\n",
       "      <td>-114.3100</td>\n",
       "      <td>41.9500</td>\n",
       "      <td>52.0000</td>\n",
       "      <td>32627.0000</td>\n",
       "      <td>6445.0000</td>\n",
       "      <td>35682.0000</td>\n",
       "      <td>6082.0000</td>\n",
       "      <td>15.0000</td>\n",
       "      <td>500001.0000</td>\n",
       "      <td>1.0000</td>\n",
       "      <td>1.0000</td>\n",
       "      <td>1.0000</td>\n",
       "      <td>1.0000</td>\n",
       "      <td>1.0000</td>\n",
       "    </tr>\n",
       "    <tr>\n",
       "      <th>kurtosis</th>\n",
       "      <td>-1.3300</td>\n",
       "      <td>-1.1100</td>\n",
       "      <td>-0.8000</td>\n",
       "      <td>28.5200</td>\n",
       "      <td>20.7000</td>\n",
       "      <td>90.4600</td>\n",
       "      <td>20.8400</td>\n",
       "      <td>4.8500</td>\n",
       "      <td>0.3400</td>\n",
       "      <td>-1.9400</td>\n",
       "      <td>-1.3800</td>\n",
       "      <td>7221.5000</td>\n",
       "      <td>4.0400</td>\n",
       "      <td>2.8400</td>\n",
       "    </tr>\n",
       "    <tr>\n",
       "      <th>skewness</th>\n",
       "      <td>-0.3000</td>\n",
       "      <td>0.4700</td>\n",
       "      <td>0.0600</td>\n",
       "      <td>3.9800</td>\n",
       "      <td>3.4100</td>\n",
       "      <td>5.4600</td>\n",
       "      <td>3.3500</td>\n",
       "      <td>1.6300</td>\n",
       "      <td>0.9800</td>\n",
       "      <td>0.2400</td>\n",
       "      <td>0.7900</td>\n",
       "      <td>84.9900</td>\n",
       "      <td>2.4600</td>\n",
       "      <td>2.2000</td>\n",
       "    </tr>\n",
       "    <tr>\n",
       "      <th>variance</th>\n",
       "      <td>4.0300</td>\n",
       "      <td>4.5800</td>\n",
       "      <td>158.6800</td>\n",
       "      <td>4803165.0900</td>\n",
       "      <td>177816.6800</td>\n",
       "      <td>1321534.5400</td>\n",
       "      <td>146764.3800</td>\n",
       "      <td>3.5800</td>\n",
       "      <td>13309193094.7500</td>\n",
       "      <td>0.2500</td>\n",
       "      <td>0.2200</td>\n",
       "      <td>0.0000</td>\n",
       "      <td>0.1000</td>\n",
       "      <td>0.1100</td>\n",
       "    </tr>\n",
       "  </tbody>\n",
       "</table>\n",
       "</div>"
      ],
      "text/plain": [
       "          Longitude   Latitude  Housing Median Age  Total Rooms  \\\n",
       "count    14448.0000 14448.0000          14448.0000   14448.0000   \n",
       "mean      -119.5700    35.6300             28.6200    2640.1300   \n",
       "std          2.0100     2.1400             12.6000    2191.6100   \n",
       "min       -124.3500    32.5400              1.0000       2.0000   \n",
       "25%       -121.8000    33.9300             18.0000    1451.0000   \n",
       "50%       -118.4900    34.2600             29.0000    2125.0000   \n",
       "75%       -118.0000    37.7100             37.0000    3148.0000   \n",
       "max       -114.3100    41.9500             52.0000   32627.0000   \n",
       "kurtosis    -1.3300    -1.1100             -0.8000      28.5200   \n",
       "skewness    -0.3000     0.4700              0.0600       3.9800   \n",
       "variance     4.0300     4.5800            158.6800 4803165.0900   \n",
       "\n",
       "          Total Bedrooms   Population  HouseHolds  Median Income  \\\n",
       "count         14448.0000   14448.0000  14448.0000     14448.0000   \n",
       "mean            537.2800    1425.1600    499.5100         3.8700   \n",
       "std             421.6800    1149.5800    383.1000         1.8900   \n",
       "min               1.0000       3.0000      1.0000         0.5000   \n",
       "25%             296.0000     784.0000    279.0000         2.5700   \n",
       "50%             435.0000    1165.0000    410.0000         3.5400   \n",
       "75%             645.0000    1724.0000    604.0000         4.7400   \n",
       "max            6445.0000   35682.0000   6082.0000        15.0000   \n",
       "kurtosis         20.7000      90.4600     20.8400         4.8500   \n",
       "skewness          3.4100       5.4600      3.3500         1.6300   \n",
       "variance     177816.6800 1321534.5400 146764.3800         3.5800   \n",
       "\n",
       "          Median House Value  Ocean Proximity 1H  Ocean Proximity Inland  \\\n",
       "count             14448.0000          14448.0000              14448.0000   \n",
       "mean             206824.6200              0.4400                  0.3200   \n",
       "std              115365.4800              0.5000                  0.4700   \n",
       "min               14999.0000              0.0000                  0.0000   \n",
       "25%              119600.0000              0.0000                  0.0000   \n",
       "50%              180000.0000              0.0000                  0.0000   \n",
       "75%              263900.0000              1.0000                  1.0000   \n",
       "max              500001.0000              1.0000                  1.0000   \n",
       "kurtosis              0.3400             -1.9400                 -1.3800   \n",
       "skewness              0.9800              0.2400                  0.7900   \n",
       "variance    13309193094.7500              0.2500                  0.2200   \n",
       "\n",
       "          Ocean Proximity Island  Ocean Proximity Near Bay  \\\n",
       "count                 14448.0000                14448.0000   \n",
       "mean                      0.0000                    0.1100   \n",
       "std                       0.0100                    0.3200   \n",
       "min                       0.0000                    0.0000   \n",
       "25%                       0.0000                    0.0000   \n",
       "50%                       0.0000                    0.0000   \n",
       "75%                       0.0000                    0.0000   \n",
       "max                       1.0000                    1.0000   \n",
       "kurtosis               7221.5000                    4.0400   \n",
       "skewness                 84.9900                    2.4600   \n",
       "variance                  0.0000                    0.1000   \n",
       "\n",
       "          Ocean Proximity Near Ocean  \n",
       "count                     14448.0000  \n",
       "mean                          0.1300  \n",
       "std                           0.3400  \n",
       "min                           0.0000  \n",
       "25%                           0.0000  \n",
       "50%                           0.0000  \n",
       "75%                           0.0000  \n",
       "max                           1.0000  \n",
       "kurtosis                      2.8400  \n",
       "skewness                      2.2000  \n",
       "variance                      0.1100  "
      ]
     },
     "execution_count": 29,
     "metadata": {},
     "output_type": "execute_result"
    }
   ],
   "source": [
    "#Describe numerical column\n",
    "pd.set_option('display.float_format',lambda x: '%.4f' %x)\n",
    "desc_clean = df_clean[numerical_features].describe()\n",
    "desc_clean.loc['kurtosis'] = df_clean[numerical_features].kurt()\n",
    "desc_clean.loc['skewness'] = df_clean[numerical_features].skew()\n",
    "desc_clean.loc['variance'] = df_clean[numerical_features].var()\n",
    "desc_clean.round(2)"
   ]
  },
  {
   "attachments": {},
   "cell_type": "markdown",
   "metadata": {},
   "source": [
    "## Normalitas"
   ]
  },
  {
   "cell_type": "code",
   "execution_count": 31,
   "metadata": {},
   "outputs": [],
   "source": [
    "#check for normality\n",
    "from scipy.stats import normaltest\n",
    "\n",
    "def normality_test(x, alpha=0.05):\n",
    "  # normality test\n",
    "  stat, p = normaltest(x)\n",
    "  print('Statistics=%.3f, p=%.3f' % (stat, p))\n",
    "  # interpret\n",
    "  if p > alpha:\n",
    "    print('Sample looks Gaussian (fail to reject H0)')\n",
    "  else:\n",
    "    print('Sample does not look Gaussian (reject H0)')"
   ]
  },
  {
   "cell_type": "code",
   "execution_count": 32,
   "metadata": {},
   "outputs": [
    {
     "name": "stdout",
     "output_type": "stream",
     "text": [
      "Statistics=174553.467, p=0.000\n",
      "Sample does not look Gaussian (reject H0)\n"
     ]
    }
   ],
   "source": [
    "normality_test(df_clean['Longitude'])"
   ]
  },
  {
   "cell_type": "code",
   "execution_count": 33,
   "metadata": {},
   "outputs": [
    {
     "name": "stdout",
     "output_type": "stream",
     "text": [
      "Statistics=6624.318, p=0.000\n",
      "Sample does not look Gaussian (reject H0)\n"
     ]
    }
   ],
   "source": [
    "normality_test(df_clean['Latitude'])"
   ]
  },
  {
   "cell_type": "code",
   "execution_count": 34,
   "metadata": {},
   "outputs": [
    {
     "name": "stdout",
     "output_type": "stream",
     "text": [
      "Statistics=1211.289, p=0.000\n",
      "Sample does not look Gaussian (reject H0)\n"
     ]
    }
   ],
   "source": [
    "normality_test(df_clean['Housing Median Age'])"
   ]
  },
  {
   "cell_type": "code",
   "execution_count": 35,
   "metadata": {},
   "outputs": [
    {
     "name": "stdout",
     "output_type": "stream",
     "text": [
      "Statistics=12451.569, p=0.000\n",
      "Sample does not look Gaussian (reject H0)\n"
     ]
    }
   ],
   "source": [
    "normality_test(df_clean['Total Rooms'])"
   ]
  },
  {
   "cell_type": "code",
   "execution_count": 36,
   "metadata": {},
   "outputs": [
    {
     "name": "stdout",
     "output_type": "stream",
     "text": [
      "Statistics=16394.064, p=0.000\n",
      "Sample does not look Gaussian (reject H0)\n"
     ]
    }
   ],
   "source": [
    "normality_test(df_clean['Population'])"
   ]
  },
  {
   "cell_type": "code",
   "execution_count": 37,
   "metadata": {},
   "outputs": [
    {
     "name": "stdout",
     "output_type": "stream",
     "text": [
      "Statistics=10796.786, p=0.000\n",
      "Sample does not look Gaussian (reject H0)\n"
     ]
    }
   ],
   "source": [
    "normality_test(df_clean['HouseHolds'])"
   ]
  },
  {
   "cell_type": "code",
   "execution_count": 38,
   "metadata": {},
   "outputs": [
    {
     "name": "stdout",
     "output_type": "stream",
     "text": [
      "Statistics=4892.511, p=0.000\n",
      "Sample does not look Gaussian (reject H0)\n"
     ]
    }
   ],
   "source": [
    "normality_test(df_clean['Median Income'])"
   ]
  },
  {
   "cell_type": "code",
   "execution_count": 39,
   "metadata": {},
   "outputs": [
    {
     "name": "stdout",
     "output_type": "stream",
     "text": [
      "Statistics=1715.725, p=0.000\n",
      "Sample does not look Gaussian (reject H0)\n"
     ]
    }
   ],
   "source": [
    "normality_test(df_clean['Median House Value'])"
   ]
  },
  {
   "cell_type": "code",
   "execution_count": 40,
   "metadata": {},
   "outputs": [
    {
     "name": "stdout",
     "output_type": "stream",
     "text": [
      "Statistics=51363.523, p=0.000\n",
      "Sample does not look Gaussian (reject H0)\n"
     ]
    }
   ],
   "source": [
    "normality_test(df_clean['Ocean Proximity 1H'])"
   ]
  },
  {
   "cell_type": "code",
   "execution_count": 41,
   "metadata": {},
   "outputs": [
    {
     "name": "stdout",
     "output_type": "stream",
     "text": [
      "Statistics=166437.304, p=0.000\n",
      "Sample does not look Gaussian (reject H0)\n"
     ]
    }
   ],
   "source": [
    "normality_test(df_clean['Ocean Proximity Inland'])"
   ]
  },
  {
   "cell_type": "code",
   "execution_count": 42,
   "metadata": {},
   "outputs": [
    {
     "name": "stdout",
     "output_type": "stream",
     "text": [
      "Statistics=6668.804, p=0.000\n",
      "Sample does not look Gaussian (reject H0)\n"
     ]
    }
   ],
   "source": [
    "normality_test(df_clean['Ocean Proximity Near Bay'])"
   ]
  },
  {
   "cell_type": "code",
   "execution_count": 43,
   "metadata": {},
   "outputs": [
    {
     "name": "stdout",
     "output_type": "stream",
     "text": [
      "Statistics=5709.529, p=0.000\n",
      "Sample does not look Gaussian (reject H0)\n"
     ]
    }
   ],
   "source": [
    "normality_test(df_clean['Ocean Proximity Near Ocean'])"
   ]
  },
  {
   "attachments": {},
   "cell_type": "markdown",
   "metadata": {},
   "source": [
    "Seluruh data menunjukkan normalitas yang tidak normal, atau tidak memiliki kurva Gaussian yang sempurna\n"
   ]
  },
  {
   "attachments": {},
   "cell_type": "markdown",
   "metadata": {},
   "source": [
    "## Korelasi Data"
   ]
  },
  {
   "attachments": {},
   "cell_type": "markdown",
   "metadata": {},
   "source": [
    "Pengumpulan data numerik"
   ]
  },
  {
   "cell_type": "code",
   "execution_count": 44,
   "metadata": {},
   "outputs": [
    {
     "data": {
      "text/plain": [
       "['Population',\n",
       " 'Latitude',\n",
       " 'Longitude',\n",
       " 'Ocean Proximity Island',\n",
       " 'Total Bedrooms',\n",
       " 'Housing Median Age',\n",
       " 'Median Income',\n",
       " 'Ocean Proximity 1H',\n",
       " 'HouseHolds',\n",
       " 'Ocean Proximity Near Bay',\n",
       " 'Total Rooms',\n",
       " 'Ocean Proximity Inland',\n",
       " 'Ocean Proximity Near Ocean']"
      ]
     },
     "execution_count": 44,
     "metadata": {},
     "output_type": "execute_result"
    }
   ],
   "source": [
    "# Ambil semua kolom yang tipenya sudah numerik\n",
    "#corr_column = df_new.select_dtypes(include=[np.number]).columns.to_list()\n",
    "corr_column = list(set(numerical_features)-set(['Median House Value']))\n",
    "corr_column"
   ]
  },
  {
   "cell_type": "code",
   "execution_count": 45,
   "metadata": {},
   "outputs": [
    {
     "data": {
      "text/plain": [
       "13"
      ]
     },
     "execution_count": 45,
     "metadata": {},
     "output_type": "execute_result"
    }
   ],
   "source": [
    "# menghitung jumlah kolom numerik\n",
    "len(corr_column)"
   ]
  },
  {
   "attachments": {},
   "cell_type": "markdown",
   "metadata": {},
   "source": [
    "Heatmap Correlation"
   ]
  },
  {
   "cell_type": "code",
   "execution_count": 47,
   "metadata": {},
   "outputs": [
    {
     "data": {
      "image/png": "[encoded data removed]",
      "text/plain": [
       "<Figure size 2000x2000 with 2 Axes>"
      ]
     },
     "metadata": {},
     "output_type": "display_data"
    }
   ],
   "source": [
    "fig = plt.figure(figsize=(20,20))\n",
    "\n",
    "ax = fig.add_subplot(1, 1, 1)\n",
    "ax.set_title('Correlation Between Variable')\n",
    "\n",
    "# Supaya matriks korelasi yang terlihat cuman bagian bawahnya\n",
    "mask = np.triu(np.ones_like(\n",
    "    df_clean[corr_column].corr(method='spearman')))\n",
    "\n",
    "sns.heatmap(df_clean[corr_column].corr(method='spearman'),vmin=-1,\n",
    "            vmax=1, cmap='mako', annot=True,mask=mask,\n",
    "            annot_kws={\"fontsize\":10})\n",
    "\n",
    "plt.show()"
   ]
  },
  {
   "attachments": {},
   "cell_type": "markdown",
   "metadata": {},
   "source": [
    "- total bedrooms memiliki korelasi tinggi dengan population, total rooms, dan household\n",
    "\n",
    "- house hold memiliki korelasi tinggi dengan population dan total rooms\n",
    "\n",
    "- total rooms memiliki korelasi tinggi dengan population"
   ]
  },
  {
   "attachments": {},
   "cell_type": "markdown",
   "metadata": {},
   "source": [
    "# Modelling"
   ]
  },
  {
   "cell_type": "code",
   "execution_count": 48,
   "metadata": {},
   "outputs": [],
   "source": [
    "from sklearn.model_selection import train_test_split"
   ]
  },
  {
   "cell_type": "code",
   "execution_count": 49,
   "metadata": {},
   "outputs": [],
   "source": [
    "#define the whole data\n",
    "x = df_clean[corr_column]\n",
    "y=df_clean[['Median House Value']]\n",
    "X_train, X_test, y_train, y_test = train_test_split(x,y, test_size=0.2, random_state=42)"
   ]
  },
  {
   "cell_type": "code",
   "execution_count": 50,
   "metadata": {},
   "outputs": [
    {
     "name": "stdout",
     "output_type": "stream",
     "text": [
      "(11558, 13)\n",
      "(2890, 13)\n",
      "(11558, 1)\n",
      "(2890, 1)\n"
     ]
    }
   ],
   "source": [
    "#check split result\n",
    "for df in [X_train, X_test, y_train, y_test]:\n",
    "    print(df.shape)"
   ]
  },
  {
   "attachments": {},
   "cell_type": "markdown",
   "metadata": {},
   "source": [
    "## Benchmark Model"
   ]
  },
  {
   "cell_type": "code",
   "execution_count": 51,
   "metadata": {},
   "outputs": [],
   "source": [
    "from sklearn.linear_model import LinearRegression\n",
    "from xgboost.sklearn import XGBRegressor\n",
    "from sklearn.neighbors import KNeighborsRegressor\n",
    "\n",
    "from sklearn.metrics import r2_score, mean_absolute_error, mean_squared_error"
   ]
  },
  {
   "attachments": {},
   "cell_type": "markdown",
   "metadata": {},
   "source": [
    "Model \n",
    "\n",
    "Model yang digunakan pada dataset ini ialah:\n",
    "1. Linear Regresi\n",
    "\n",
    "2. K-Nearest Neighbor\n",
    "\n",
    "3. XGBoost"
   ]
  },
  {
   "cell_type": "code",
   "execution_count": 52,
   "metadata": {},
   "outputs": [],
   "source": [
    "linreg = LinearRegression()\n",
    "kneighbor = KNeighborsRegressor()\n",
    "xgb = XGBRegressor()"
   ]
  },
  {
   "cell_type": "code",
   "execution_count": 53,
   "metadata": {},
   "outputs": [
    {
     "name": "stdout",
     "output_type": "stream",
     "text": [
      "Nilai R-Squared Linear Regresi:  0.6366234773612685\n",
      "Nilai MAE Linear Regresi:  49867.62527413306\n",
      "Nilai MSE Linear Regresi:  4851452963.912491\n",
      "Nilai R-Squared KNN:  0.24183543533998575\n",
      "Nilai MAE KNN:  77996.33370242214\n",
      "Nilai MSE KNN:  10122282247.744747\n",
      "Nilai R-Squared XGBoost:   0.8213611667850141\n",
      "Nilai MAE XGB:  32608.45393598616\n",
      "Nilai MSE XGB:  2385013458.154374\n"
     ]
    }
   ],
   "source": [
    "#Nilai R^2 Linear regresi\n",
    "linreg.fit(X_train, y_train)\n",
    "y_pred_lin= linreg.predict(X_test)\n",
    "nilai_r2_linear=r2_score(y_test, y_pred_lin)\n",
    "nilai_MAE_linear=mean_absolute_error(y_test, y_pred_lin)\n",
    "nilai_MSE_linear=mean_squared_error(y_test, y_pred_lin)\n",
    "print('Nilai R-Squared Linear Regresi: ', nilai_r2_linear)\n",
    "print('Nilai MAE Linear Regresi: ', nilai_MAE_linear)\n",
    "print('Nilai MSE Linear Regresi: ', nilai_MSE_linear)\n",
    "\n",
    "#Nilai R^2 KNN \n",
    "kneighbor.fit(X_train, y_train)\n",
    "y_pred_kn= kneighbor.predict(X_test)\n",
    "nilai_r2_KN=r2_score(y_test, y_pred_kn)\n",
    "nilai_MAE_KN=mean_absolute_error(y_test, y_pred_kn)\n",
    "nilai_MSE_KN=mean_squared_error(y_test, y_pred_kn)\n",
    "print('Nilai R-Squared KNN: ', nilai_r2_KN)\n",
    "print('Nilai MAE KNN: ', nilai_MAE_KN)\n",
    "print('Nilai MSE KNN: ', nilai_MSE_KN)\n",
    "\n",
    "#Nilai R^2 XGBoost\n",
    "xgb.fit(X_train, y_train)\n",
    "y_pred_xg= xgb.predict(X_test)\n",
    "nilai_r2_xgb=r2_score(y_test, y_pred_xg)\n",
    "nilai_MAE_xgb=mean_absolute_error(y_test, y_pred_xg)\n",
    "nilai_MSE_xgb=mean_squared_error(y_test, y_pred_xg)\n",
    "print('Nilai R-Squared XGBoost:  ', nilai_r2_xgb)\n",
    "print('Nilai MAE XGB: ', nilai_MAE_xgb)\n",
    "print('Nilai MSE XGB: ', nilai_MSE_xgb)"
   ]
  },
  {
   "attachments": {},
   "cell_type": "markdown",
   "metadata": {},
   "source": [
    "Nilai Model\n",
    "\n",
    "Di atas merupakan nilai metriks yang diperoleh dari model yang sudah ditentukan\n",
    "\n",
    "Metriks yang digunakan meliputi:\n",
    "\n",
    "1. R-Squared\n",
    "\n",
    "2. Mean Absolute Error\n",
    "\n",
    "3. Mean Squared Error"
   ]
  },
  {
   "cell_type": "code",
   "execution_count": 54,
   "metadata": {},
   "outputs": [
    {
     "data": {
      "text/html": [
       "<div>\n",
       "<style scoped>\n",
       "    .dataframe tbody tr th:only-of-type {\n",
       "        vertical-align: middle;\n",
       "    }\n",
       "\n",
       "    .dataframe tbody tr th {\n",
       "        vertical-align: top;\n",
       "    }\n",
       "\n",
       "    .dataframe thead th {\n",
       "        text-align: right;\n",
       "    }\n",
       "</style>\n",
       "<table border=\"1\" class=\"dataframe\">\n",
       "  <thead>\n",
       "    <tr style=\"text-align: right;\">\n",
       "      <th></th>\n",
       "      <th>R2</th>\n",
       "      <th>MAE</th>\n",
       "      <th>MSE</th>\n",
       "    </tr>\n",
       "  </thead>\n",
       "  <tbody>\n",
       "    <tr>\n",
       "      <th>Linear Regresi</th>\n",
       "      <td>0.6366</td>\n",
       "      <td>49867.6253</td>\n",
       "      <td>4851452963.9125</td>\n",
       "    </tr>\n",
       "    <tr>\n",
       "      <th>KN Neighbor</th>\n",
       "      <td>0.2418</td>\n",
       "      <td>77996.3337</td>\n",
       "      <td>10122282247.7447</td>\n",
       "    </tr>\n",
       "    <tr>\n",
       "      <th>XGBoost</th>\n",
       "      <td>0.8214</td>\n",
       "      <td>32608.4539</td>\n",
       "      <td>2385013458.1544</td>\n",
       "    </tr>\n",
       "  </tbody>\n",
       "</table>\n",
       "</div>"
      ],
      "text/plain": [
       "                   R2        MAE              MSE\n",
       "Linear Regresi 0.6366 49867.6253  4851452963.9125\n",
       "KN Neighbor    0.2418 77996.3337 10122282247.7447\n",
       "XGBoost        0.8214 32608.4539  2385013458.1544"
      ]
     },
     "execution_count": 54,
     "metadata": {},
     "output_type": "execute_result"
    }
   ],
   "source": [
    "hasil = {\n",
    "    'R2' : [nilai_r2_linear, nilai_r2_KN, nilai_r2_xgb],\n",
    "    'MAE' : [nilai_MAE_linear, nilai_MAE_KN, nilai_MAE_xgb],\n",
    "    'MSE': [nilai_MSE_linear, nilai_MSE_KN, nilai_MSE_xgb]\n",
    "}\n",
    "\n",
    "kolom= pd.DataFrame(hasil, index=['Linear Regresi', 'KN Neighbor', 'XGBoost'])\n",
    "kolom"
   ]
  },
  {
   "attachments": {},
   "cell_type": "markdown",
   "metadata": {},
   "source": [
    "Hasil Metriks\n",
    "\n",
    "Di atas merupakan hasil nilai metriks yang diperoleh dari 3 model.\n",
    "\n",
    "**Nilai terbaik terdapat pada nilai R2 atau R-Squared pada model XGBoost**"
   ]
  },
  {
   "cell_type": "code",
   "execution_count": 55,
   "metadata": {},
   "outputs": [
    {
     "data": {
      "text/html": [
       "<table class=\"simpletable\">\n",
       "<caption>OLS Regression Results</caption>\n",
       "<tr>\n",
       "  <th>Dep. Variable:</th>    <td>Median House Value</td> <th>  R-squared:         </th>  <td>   0.647</td>  \n",
       "</tr>\n",
       "<tr>\n",
       "  <th>Model:</th>                    <td>OLS</td>        <th>  Adj. R-squared:    </th>  <td>   0.646</td>  \n",
       "</tr>\n",
       "<tr>\n",
       "  <th>Method:</th>              <td>Least Squares</td>   <th>  F-statistic:       </th>  <td>   2203.</td>  \n",
       "</tr>\n",
       "<tr>\n",
       "  <th>Date:</th>              <td>Mon, 29 May 2023</td>  <th>  Prob (F-statistic):</th>   <td>  0.00</td>   \n",
       "</tr>\n",
       "<tr>\n",
       "  <th>Time:</th>                  <td>22:29:28</td>      <th>  Log-Likelihood:    </th> <td>-1.8139e+05</td>\n",
       "</tr>\n",
       "<tr>\n",
       "  <th>No. Observations:</th>       <td> 14448</td>       <th>  AIC:               </th>  <td>3.628e+05</td> \n",
       "</tr>\n",
       "<tr>\n",
       "  <th>Df Residuals:</th>           <td> 14435</td>       <th>  BIC:               </th>  <td>3.629e+05</td> \n",
       "</tr>\n",
       "<tr>\n",
       "  <th>Df Model:</th>               <td>    12</td>       <th>                     </th>      <td> </td>     \n",
       "</tr>\n",
       "<tr>\n",
       "  <th>Covariance Type:</th>       <td>nonrobust</td>     <th>                     </th>      <td> </td>     \n",
       "</tr>\n",
       "</table>\n",
       "<table class=\"simpletable\">\n",
       "<tr>\n",
       "               <td></td>                 <th>coef</th>     <th>std err</th>      <th>t</th>      <th>P>|t|</th>  <th>[0.025</th>    <th>0.975]</th>  \n",
       "</tr>\n",
       "<tr>\n",
       "  <th>const</th>                      <td>-1.938e+06</td> <td> 8.79e+04</td> <td>  -22.030</td> <td> 0.000</td> <td>-2.11e+06</td> <td>-1.77e+06</td>\n",
       "</tr>\n",
       "<tr>\n",
       "  <th>Population</th>                 <td>  -36.1087</td> <td>    1.235</td> <td>  -29.246</td> <td> 0.000</td> <td>  -38.529</td> <td>  -33.689</td>\n",
       "</tr>\n",
       "<tr>\n",
       "  <th>Latitude</th>                   <td>-2.616e+04</td> <td> 1193.411</td> <td>  -21.920</td> <td> 0.000</td> <td>-2.85e+04</td> <td>-2.38e+04</td>\n",
       "</tr>\n",
       "<tr>\n",
       "  <th>Longitude</th>                  <td>-2.762e+04</td> <td> 1215.111</td> <td>  -22.729</td> <td> 0.000</td> <td>   -3e+04</td> <td>-2.52e+04</td>\n",
       "</tr>\n",
       "<tr>\n",
       "  <th>Ocean Proximity Island</th>     <td>-2.749e+05</td> <td> 4.44e+04</td> <td>   -6.196</td> <td> 0.000</td> <td>-3.62e+05</td> <td>-1.88e+05</td>\n",
       "</tr>\n",
       "<tr>\n",
       "  <th>Total Bedrooms</th>             <td>   81.0493</td> <td>    7.311</td> <td>   11.086</td> <td> 0.000</td> <td>   66.719</td> <td>   95.379</td>\n",
       "</tr>\n",
       "<tr>\n",
       "  <th>Housing Median Age</th>         <td> 1085.7674</td> <td>   52.208</td> <td>   20.797</td> <td> 0.000</td> <td>  983.433</td> <td> 1188.101</td>\n",
       "</tr>\n",
       "<tr>\n",
       "  <th>Median Income</th>              <td> 3.942e+04</td> <td>  400.480</td> <td>   98.421</td> <td> 0.000</td> <td> 3.86e+04</td> <td> 4.02e+04</td>\n",
       "</tr>\n",
       "<tr>\n",
       "  <th>Ocean Proximity 1H</th>         <td>-4.065e+05</td> <td> 1.92e+04</td> <td>  -21.166</td> <td> 0.000</td> <td>-4.44e+05</td> <td>-3.69e+05</td>\n",
       "</tr>\n",
       "<tr>\n",
       "  <th>HouseHolds</th>                 <td>   61.6689</td> <td>    8.076</td> <td>    7.636</td> <td> 0.000</td> <td>   45.838</td> <td>   77.500</td>\n",
       "</tr>\n",
       "<tr>\n",
       "  <th>Ocean Proximity Near Bay</th>   <td>-4.112e+05</td> <td> 1.97e+04</td> <td>  -20.843</td> <td> 0.000</td> <td> -4.5e+05</td> <td>-3.73e+05</td>\n",
       "</tr>\n",
       "<tr>\n",
       "  <th>Total Rooms</th>                <td>   -5.3639</td> <td>    0.929</td> <td>   -5.774</td> <td> 0.000</td> <td>   -7.185</td> <td>   -3.543</td>\n",
       "</tr>\n",
       "<tr>\n",
       "  <th>Ocean Proximity Inland</th>     <td>-4.437e+05</td> <td> 1.81e+04</td> <td>  -24.473</td> <td> 0.000</td> <td>-4.79e+05</td> <td>-4.08e+05</td>\n",
       "</tr>\n",
       "<tr>\n",
       "  <th>Ocean Proximity Near Ocean</th> <td>-4.011e+05</td> <td> 1.96e+04</td> <td>  -20.470</td> <td> 0.000</td> <td> -4.4e+05</td> <td>-3.63e+05</td>\n",
       "</tr>\n",
       "</table>\n",
       "<table class=\"simpletable\">\n",
       "<tr>\n",
       "  <th>Omnibus:</th>       <td>3574.722</td> <th>  Durbin-Watson:     </th> <td>   2.000</td> \n",
       "</tr>\n",
       "<tr>\n",
       "  <th>Prob(Omnibus):</th>  <td> 0.000</td>  <th>  Jarque-Bera (JB):  </th> <td>11831.450</td>\n",
       "</tr>\n",
       "<tr>\n",
       "  <th>Skew:</th>           <td> 1.244</td>  <th>  Prob(JB):          </th> <td>    0.00</td> \n",
       "</tr>\n",
       "<tr>\n",
       "  <th>Kurtosis:</th>       <td> 6.670</td>  <th>  Cond. No.          </th> <td>2.85e+18</td> \n",
       "</tr>\n",
       "</table><br/><br/>Notes:<br/>[1] Standard Errors assume that the covariance matrix of the errors is correctly specified.<br/>[2] The smallest eigenvalue is 2.78e-26. This might indicate that there are<br/>strong multicollinearity problems or that the design matrix is singular."
      ],
      "text/latex": [
       "\\begin{center}\n",
       "\\begin{tabular}{lclc}\n",
       "\\toprule\n",
       "\\textbf{Dep. Variable:}             & Median House Value & \\textbf{  R-squared:         } &      0.647   \\\\\n",
       "\\textbf{Model:}                     &        OLS         & \\textbf{  Adj. R-squared:    } &      0.646   \\\\\n",
       "\\textbf{Method:}                    &   Least Squares    & \\textbf{  F-statistic:       } &      2203.   \\\\\n",
       "\\textbf{Date:}                      &  Mon, 29 May 2023  & \\textbf{  Prob (F-statistic):} &      0.00    \\\\\n",
       "\\textbf{Time:}                      &      22:29:28      & \\textbf{  Log-Likelihood:    } & -1.8139e+05  \\\\\n",
       "\\textbf{No. Observations:}          &        14448       & \\textbf{  AIC:               } &  3.628e+05   \\\\\n",
       "\\textbf{Df Residuals:}              &        14435       & \\textbf{  BIC:               } &  3.629e+05   \\\\\n",
       "\\textbf{Df Model:}                  &           12       & \\textbf{                     } &              \\\\\n",
       "\\textbf{Covariance Type:}           &     nonrobust      & \\textbf{                     } &              \\\\\n",
       "\\bottomrule\n",
       "\\end{tabular}\n",
       "\\begin{tabular}{lcccccc}\n",
       "                                    & \\textbf{coef} & \\textbf{std err} & \\textbf{t} & \\textbf{P$> |$t$|$} & \\textbf{[0.025} & \\textbf{0.975]}  \\\\\n",
       "\\midrule\n",
       "\\textbf{const}                      &   -1.938e+06  &     8.79e+04     &   -22.030  &         0.000        &    -2.11e+06    &    -1.77e+06     \\\\\n",
       "\\textbf{Population}                 &     -36.1087  &        1.235     &   -29.246  &         0.000        &      -38.529    &      -33.689     \\\\\n",
       "\\textbf{Latitude}                   &   -2.616e+04  &     1193.411     &   -21.920  &         0.000        &    -2.85e+04    &    -2.38e+04     \\\\\n",
       "\\textbf{Longitude}                  &   -2.762e+04  &     1215.111     &   -22.729  &         0.000        &       -3e+04    &    -2.52e+04     \\\\\n",
       "\\textbf{Ocean Proximity Island}     &   -2.749e+05  &     4.44e+04     &    -6.196  &         0.000        &    -3.62e+05    &    -1.88e+05     \\\\\n",
       "\\textbf{Total Bedrooms}             &      81.0493  &        7.311     &    11.086  &         0.000        &       66.719    &       95.379     \\\\\n",
       "\\textbf{Housing Median Age}         &    1085.7674  &       52.208     &    20.797  &         0.000        &      983.433    &     1188.101     \\\\\n",
       "\\textbf{Median Income}              &    3.942e+04  &      400.480     &    98.421  &         0.000        &     3.86e+04    &     4.02e+04     \\\\\n",
       "\\textbf{Ocean Proximity 1H}         &   -4.065e+05  &     1.92e+04     &   -21.166  &         0.000        &    -4.44e+05    &    -3.69e+05     \\\\\n",
       "\\textbf{HouseHolds}                 &      61.6689  &        8.076     &     7.636  &         0.000        &       45.838    &       77.500     \\\\\n",
       "\\textbf{Ocean Proximity Near Bay}   &   -4.112e+05  &     1.97e+04     &   -20.843  &         0.000        &     -4.5e+05    &    -3.73e+05     \\\\\n",
       "\\textbf{Total Rooms}                &      -5.3639  &        0.929     &    -5.774  &         0.000        &       -7.185    &       -3.543     \\\\\n",
       "\\textbf{Ocean Proximity Inland}     &   -4.437e+05  &     1.81e+04     &   -24.473  &         0.000        &    -4.79e+05    &    -4.08e+05     \\\\\n",
       "\\textbf{Ocean Proximity Near Ocean} &   -4.011e+05  &     1.96e+04     &   -20.470  &         0.000        &     -4.4e+05    &    -3.63e+05     \\\\\n",
       "\\bottomrule\n",
       "\\end{tabular}\n",
       "\\begin{tabular}{lclc}\n",
       "\\textbf{Omnibus:}       & 3574.722 & \\textbf{  Durbin-Watson:     } &     2.000  \\\\\n",
       "\\textbf{Prob(Omnibus):} &   0.000  & \\textbf{  Jarque-Bera (JB):  } & 11831.450  \\\\\n",
       "\\textbf{Skew:}          &   1.244  & \\textbf{  Prob(JB):          } &      0.00  \\\\\n",
       "\\textbf{Kurtosis:}      &   6.670  & \\textbf{  Cond. No.          } &  2.85e+18  \\\\\n",
       "\\bottomrule\n",
       "\\end{tabular}\n",
       "%\\caption{OLS Regression Results}\n",
       "\\end{center}\n",
       "\n",
       "Notes: \\newline\n",
       " [1] Standard Errors assume that the covariance matrix of the errors is correctly specified. \\newline\n",
       " [2] The smallest eigenvalue is 2.78e-26. This might indicate that there are \\newline\n",
       " strong multicollinearity problems or that the design matrix is singular."
      ],
      "text/plain": [
       "<class 'statsmodels.iolib.summary.Summary'>\n",
       "\"\"\"\n",
       "                            OLS Regression Results                            \n",
       "==============================================================================\n",
       "Dep. Variable:     Median House Value   R-squared:                       0.647\n",
       "Model:                            OLS   Adj. R-squared:                  0.646\n",
       "Method:                 Least Squares   F-statistic:                     2203.\n",
       "Date:                Mon, 29 May 2023   Prob (F-statistic):               0.00\n",
       "Time:                        22:29:28   Log-Likelihood:            -1.8139e+05\n",
       "No. Observations:               14448   AIC:                         3.628e+05\n",
       "Df Residuals:                   14435   BIC:                         3.629e+05\n",
       "Df Model:                          12                                         \n",
       "Covariance Type:            nonrobust                                         \n",
       "==============================================================================================\n",
       "                                 coef    std err          t      P>|t|      [0.025      0.975]\n",
       "----------------------------------------------------------------------------------------------\n",
       "const                      -1.938e+06   8.79e+04    -22.030      0.000   -2.11e+06   -1.77e+06\n",
       "Population                   -36.1087      1.235    -29.246      0.000     -38.529     -33.689\n",
       "Latitude                   -2.616e+04   1193.411    -21.920      0.000   -2.85e+04   -2.38e+04\n",
       "Longitude                  -2.762e+04   1215.111    -22.729      0.000      -3e+04   -2.52e+04\n",
       "Ocean Proximity Island     -2.749e+05   4.44e+04     -6.196      0.000   -3.62e+05   -1.88e+05\n",
       "Total Bedrooms                81.0493      7.311     11.086      0.000      66.719      95.379\n",
       "Housing Median Age          1085.7674     52.208     20.797      0.000     983.433    1188.101\n",
       "Median Income               3.942e+04    400.480     98.421      0.000    3.86e+04    4.02e+04\n",
       "Ocean Proximity 1H         -4.065e+05   1.92e+04    -21.166      0.000   -4.44e+05   -3.69e+05\n",
       "HouseHolds                    61.6689      8.076      7.636      0.000      45.838      77.500\n",
       "Ocean Proximity Near Bay   -4.112e+05   1.97e+04    -20.843      0.000    -4.5e+05   -3.73e+05\n",
       "Total Rooms                   -5.3639      0.929     -5.774      0.000      -7.185      -3.543\n",
       "Ocean Proximity Inland     -4.437e+05   1.81e+04    -24.473      0.000   -4.79e+05   -4.08e+05\n",
       "Ocean Proximity Near Ocean -4.011e+05   1.96e+04    -20.470      0.000    -4.4e+05   -3.63e+05\n",
       "==============================================================================\n",
       "Omnibus:                     3574.722   Durbin-Watson:                   2.000\n",
       "Prob(Omnibus):                  0.000   Jarque-Bera (JB):            11831.450\n",
       "Skew:                           1.244   Prob(JB):                         0.00\n",
       "Kurtosis:                       6.670   Cond. No.                     2.85e+18\n",
       "==============================================================================\n",
       "\n",
       "Notes:\n",
       "[1] Standard Errors assume that the covariance matrix of the errors is correctly specified.\n",
       "[2] The smallest eigenvalue is 2.78e-26. This might indicate that there are\n",
       "strong multicollinearity problems or that the design matrix is singular.\n",
       "\"\"\""
      ]
     },
     "execution_count": 55,
     "metadata": {},
     "output_type": "execute_result"
    }
   ],
   "source": [
    "import statsmodels.api as sm\n",
    "\n",
    "X_constant = sm.add_constant(x)\n",
    "\n",
    "lin_reg = sm.OLS(y,X_constant).fit()\n",
    "lin_reg.summary()"
   ]
  },
  {
   "attachments": {},
   "cell_type": "markdown",
   "metadata": {},
   "source": [
    "Hasil Linear Regresi\n",
    "\n",
    "Hasil dari Linear Regresi menunjukkan bahwa:\n",
    "- R-squared dengan nilai 0.646 (underfitting)\n",
    "- F-Statistic adalah nilai yang menguji signifikansi keseluruhan model regresi. Nilai p yang diperoleh cukup besar, maka dapat disimpulkan bahwa tidak ada variabel yang berpengaruh secara signifikan terhadap variabel dependen.\n",
    "- Standard Error merupakan estimasi standar kesalahan untuk masing-masing koefisien, semakin rendah maka semakin akurat estimasi koefisien tersebut\n",
    "\n",
    "XGBoost dipilih untuk menjadi model data ini, dikarenakan dataset mengalami underfitting dan model yang dapat membantu data underfitting salah satunya adalah XGBoost\n"
   ]
  },
  {
   "attachments": {},
   "cell_type": "markdown",
   "metadata": {},
   "source": [
    "## Modelling XGBoost"
   ]
  },
  {
   "cell_type": "code",
   "execution_count": 56,
   "metadata": {},
   "outputs": [],
   "source": [
    "from xgboost import XGBRegressor \n",
    "import xgboost as xgb"
   ]
  },
  {
   "cell_type": "code",
   "execution_count": 82,
   "metadata": {},
   "outputs": [],
   "source": [
    "#pembuatan variabel untuk model\n",
    "model = XGBRegressor()"
   ]
  },
  {
   "cell_type": "code",
   "execution_count": 83,
   "metadata": {},
   "outputs": [],
   "source": [
    "xgb_model = xgb.XGBRegressor()"
   ]
  },
  {
   "cell_type": "code",
   "execution_count": 84,
   "metadata": {},
   "outputs": [
    {
     "data": {
      "text/html": [
       "<style>#sk-container-id-2 {color: black;background-color: white;}#sk-container-id-2 pre{padding: 0;}#sk-container-id-2 div.sk-toggleable {background-color: white;}#sk-container-id-2 label.sk-toggleable__label {cursor: pointer;display: block;width: 100%;margin-bottom: 0;padding: 0.3em;box-sizing: border-box;text-align: center;}#sk-container-id-2 label.sk-toggleable__label-arrow:before {content: \"▸\";float: left;margin-right: 0.25em;color: #696969;}#sk-container-id-2 label.sk-toggleable__label-arrow:hover:before {color: black;}#sk-container-id-2 div.sk-estimator:hover label.sk-toggleable__label-arrow:before {color: black;}#sk-container-id-2 div.sk-toggleable__content {max-height: 0;max-width: 0;overflow: hidden;text-align: left;background-color: #f0f8ff;}#sk-container-id-2 div.sk-toggleable__content pre {margin: 0.2em;color: black;border-radius: 0.25em;background-color: #f0f8ff;}#sk-container-id-2 input.sk-toggleable__control:checked~div.sk-toggleable__content {max-height: 200px;max-width: 100%;overflow: auto;}#sk-container-id-2 input.sk-toggleable__control:checked~label.sk-toggleable__label-arrow:before {content: \"▾\";}#sk-container-id-2 div.sk-estimator input.sk-toggleable__control:checked~label.sk-toggleable__label {background-color: #d4ebff;}#sk-container-id-2 div.sk-label input.sk-toggleable__control:checked~label.sk-toggleable__label {background-color: #d4ebff;}#sk-container-id-2 input.sk-hidden--visually {border: 0;clip: rect(1px 1px 1px 1px);clip: rect(1px, 1px, 1px, 1px);height: 1px;margin: -1px;overflow: hidden;padding: 0;position: absolute;width: 1px;}#sk-container-id-2 div.sk-estimator {font-family: monospace;background-color: #f0f8ff;border: 1px dotted black;border-radius: 0.25em;box-sizing: border-box;margin-bottom: 0.5em;}#sk-container-id-2 div.sk-estimator:hover {background-color: #d4ebff;}#sk-container-id-2 div.sk-parallel-item::after {content: \"\";width: 100%;border-bottom: 1px solid gray;flex-grow: 1;}#sk-container-id-2 div.sk-label:hover label.sk-toggleable__label {background-color: #d4ebff;}#sk-container-id-2 div.sk-serial::before {content: \"\";position: absolute;border-left: 1px solid gray;box-sizing: border-box;top: 0;bottom: 0;left: 50%;z-index: 0;}#sk-container-id-2 div.sk-serial {display: flex;flex-direction: column;align-items: center;background-color: white;padding-right: 0.2em;padding-left: 0.2em;position: relative;}#sk-container-id-2 div.sk-item {position: relative;z-index: 1;}#sk-container-id-2 div.sk-parallel {display: flex;align-items: stretch;justify-content: center;background-color: white;position: relative;}#sk-container-id-2 div.sk-item::before, #sk-container-id-2 div.sk-parallel-item::before {content: \"\";position: absolute;border-left: 1px solid gray;box-sizing: border-box;top: 0;bottom: 0;left: 50%;z-index: -1;}#sk-container-id-2 div.sk-parallel-item {display: flex;flex-direction: column;z-index: 1;position: relative;background-color: white;}#sk-container-id-2 div.sk-parallel-item:first-child::after {align-self: flex-end;width: 50%;}#sk-container-id-2 div.sk-parallel-item:last-child::after {align-self: flex-start;width: 50%;}#sk-container-id-2 div.sk-parallel-item:only-child::after {width: 0;}#sk-container-id-2 div.sk-dashed-wrapped {border: 1px dashed gray;margin: 0 0.4em 0.5em 0.4em;box-sizing: border-box;padding-bottom: 0.4em;background-color: white;}#sk-container-id-2 div.sk-label label {font-family: monospace;font-weight: bold;display: inline-block;line-height: 1.2em;}#sk-container-id-2 div.sk-label-container {text-align: center;}#sk-container-id-2 div.sk-container {/* jupyter's `normalize.less` sets `[hidden] { display: none; }` but bootstrap.min.css set `[hidden] { display: none !important; }` so we also need the `!important` here to be able to override the default hidden behavior on the sphinx rendered scikit-learn.org. See: https://github.com/scikit-learn/scikit-learn/issues/21755 */display: inline-block !important;position: relative;}#sk-container-id-2 div.sk-text-repr-fallback {display: none;}</style><div id=\"sk-container-id-2\" class=\"sk-top-container\"><div class=\"sk-text-repr-fallback\"><pre>XGBRegressor(base_score=None, booster=None, callbacks=None,\n",
       "             colsample_bylevel=None, colsample_bynode=None,\n",
       "             colsample_bytree=None, early_stopping_rounds=None,\n",
       "             enable_categorical=False, eval_metric=None, feature_types=None,\n",
       "             gamma=None, gpu_id=None, grow_policy=None, importance_type=None,\n",
       "             interaction_constraints=None, learning_rate=None, max_bin=None,\n",
       "             max_cat_threshold=None, max_cat_to_onehot=None,\n",
       "             max_delta_step=None, max_depth=None, max_leaves=None,\n",
       "             min_child_weight=None, missing=nan, monotone_constraints=None,\n",
       "             n_estimators=100, n_jobs=None, num_parallel_tree=None,\n",
       "             predictor=None, random_state=None, ...)</pre><b>In a Jupyter environment, please rerun this cell to show the HTML representation or trust the notebook. <br />On GitHub, the HTML representation is unable to render, please try loading this page with nbviewer.org.</b></div><div class=\"sk-container\" hidden><div class=\"sk-item\"><div class=\"sk-estimator sk-toggleable\"><input class=\"sk-toggleable__control sk-hidden--visually\" id=\"sk-estimator-id-2\" type=\"checkbox\" checked><label for=\"sk-estimator-id-2\" class=\"sk-toggleable__label sk-toggleable__label-arrow\">XGBRegressor</label><div class=\"sk-toggleable__content\"><pre>XGBRegressor(base_score=None, booster=None, callbacks=None,\n",
       "             colsample_bylevel=None, colsample_bynode=None,\n",
       "             colsample_bytree=None, early_stopping_rounds=None,\n",
       "             enable_categorical=False, eval_metric=None, feature_types=None,\n",
       "             gamma=None, gpu_id=None, grow_policy=None, importance_type=None,\n",
       "             interaction_constraints=None, learning_rate=None, max_bin=None,\n",
       "             max_cat_threshold=None, max_cat_to_onehot=None,\n",
       "             max_delta_step=None, max_depth=None, max_leaves=None,\n",
       "             min_child_weight=None, missing=nan, monotone_constraints=None,\n",
       "             n_estimators=100, n_jobs=None, num_parallel_tree=None,\n",
       "             predictor=None, random_state=None, ...)</pre></div></div></div></div></div>"
      ],
      "text/plain": [
       "XGBRegressor(base_score=None, booster=None, callbacks=None,\n",
       "             colsample_bylevel=None, colsample_bynode=None,\n",
       "             colsample_bytree=None, early_stopping_rounds=None,\n",
       "             enable_categorical=False, eval_metric=None, feature_types=None,\n",
       "             gamma=None, gpu_id=None, grow_policy=None, importance_type=None,\n",
       "             interaction_constraints=None, learning_rate=None, max_bin=None,\n",
       "             max_cat_threshold=None, max_cat_to_onehot=None,\n",
       "             max_delta_step=None, max_depth=None, max_leaves=None,\n",
       "             min_child_weight=None, missing=nan, monotone_constraints=None,\n",
       "             n_estimators=100, n_jobs=None, num_parallel_tree=None,\n",
       "             predictor=None, random_state=None, ...)"
      ]
     },
     "execution_count": 84,
     "metadata": {},
     "output_type": "execute_result"
    }
   ],
   "source": [
    "model.fit(X_train, y_train)"
   ]
  },
  {
   "attachments": {},
   "cell_type": "markdown",
   "metadata": {},
   "source": [
    "Predicting"
   ]
  },
  {
   "cell_type": "code",
   "execution_count": 85,
   "metadata": {},
   "outputs": [],
   "source": [
    "#Prediksi untuk train dan test data\n",
    "predictions = model.predict(X_test)"
   ]
  },
  {
   "cell_type": "code",
   "execution_count": 61,
   "metadata": {},
   "outputs": [
    {
     "data": {
      "text/plain": [
       "array([149382.48, 159395.58, 181448.48, 134430.58, 198140.1 , 125860.73,\n",
       "       192710.73, 205884.39, 155618.98, 157928.17], dtype=float32)"
      ]
     },
     "execution_count": 61,
     "metadata": {},
     "output_type": "execute_result"
    }
   ],
   "source": [
    "#pengetesan dengan array\n",
    "predictions[0:10]"
   ]
  },
  {
   "cell_type": "code",
   "execution_count": 62,
   "metadata": {},
   "outputs": [
    {
     "data": {
      "text/plain": [
       "Population                   2231.0000\n",
       "Latitude                       34.1000\n",
       "Longitude                    -117.4200\n",
       "Ocean Proximity Island          0.0000\n",
       "Total Bedrooms                809.0000\n",
       "Housing Median Age             18.0000\n",
       "Median Income                   4.1399\n",
       "Ocean Proximity 1H              0.0000\n",
       "HouseHolds                    742.0000\n",
       "Ocean Proximity Near Bay        0.0000\n",
       "Total Rooms                  3977.0000\n",
       "Ocean Proximity Inland          1.0000\n",
       "Ocean Proximity Near Ocean      0.0000\n",
       "Name: 7834, dtype: float64"
      ]
     },
     "execution_count": 62,
     "metadata": {},
     "output_type": "execute_result"
    }
   ],
   "source": [
    "#Pengetesan dengan arrat terhadap X test\n",
    "X_test.iloc[0]"
   ]
  },
  {
   "cell_type": "code",
   "execution_count": 63,
   "metadata": {},
   "outputs": [
    {
     "data": {
      "text/plain": [
       "Median House Value   115400.0000\n",
       "Name: 7834, dtype: float64"
      ]
     },
     "execution_count": 63,
     "metadata": {},
     "output_type": "execute_result"
    }
   ],
   "source": [
    "#Pengetesan dengan arrat terhadap y test\n",
    "y_test.iloc[0]"
   ]
  },
  {
   "attachments": {},
   "cell_type": "markdown",
   "metadata": {},
   "source": [
    "Test Prediction with Metrics"
   ]
  },
  {
   "cell_type": "code",
   "execution_count": 64,
   "metadata": {},
   "outputs": [],
   "source": [
    "#variabel untuk prediksi data train\n",
    "pred_train = model.predict(X_train)"
   ]
  },
  {
   "cell_type": "code",
   "execution_count": 65,
   "metadata": {},
   "outputs": [],
   "source": [
    "from sklearn.metrics import mean_squared_error, r2_score, mean_absolute_error"
   ]
  },
  {
   "cell_type": "code",
   "execution_count": 66,
   "metadata": {},
   "outputs": [],
   "source": [
    "model_train = model.score(X_train, y_train)"
   ]
  },
  {
   "cell_type": "code",
   "execution_count": 67,
   "metadata": {},
   "outputs": [
    {
     "name": "stdout",
     "output_type": "stream",
     "text": [
      "R2 Test Score: 0.94536681590649\n",
      "MSE Test Score: 726471672.5968182\n",
      "MAE Test Score: 18967.193663716418\n"
     ]
    }
   ],
   "source": [
    "#Nilai r-squared, mse, dan mae\n",
    "r2_train=(r2_score(y_train, pred_train))\n",
    "mse_train=(mean_squared_error(y_train, pred_train))\n",
    "mae_train=(mean_absolute_error(y_train, pred_train))\n",
    "\n",
    "print(\"R2 Test Score:\", r2_train)\n",
    "print(\"MSE Test Score:\", mse_train)\n",
    "print(\"MAE Test Score:\", mae_train)\n"
   ]
  },
  {
   "attachments": {},
   "cell_type": "markdown",
   "metadata": {},
   "source": [
    "Penngecekkan pada data test"
   ]
  },
  {
   "cell_type": "code",
   "execution_count": 68,
   "metadata": {},
   "outputs": [],
   "source": [
    "model_test = model.score(X_test, y_test)"
   ]
  },
  {
   "cell_type": "code",
   "execution_count": 69,
   "metadata": {},
   "outputs": [
    {
     "name": "stdout",
     "output_type": "stream",
     "text": [
      "R2 Test Score: 0.8213611667850141\n",
      "MSE Test Score: 2385013458.154374\n",
      "MAE Test Score: 32608.45393598616\n"
     ]
    }
   ],
   "source": [
    "#nilai metriks saat sebelum di hyperparameter tuning\n",
    "r2_test = (r2_score(y_test, predictions))\n",
    "mse_test =(mean_squared_error(y_test, predictions))\n",
    "mae_test =(mean_absolute_error(y_test, predictions))\n",
    "\n",
    "print(\"R2 Test Score:\", r2_test)\n",
    "print(\"MSE Test Score:\", mse_test)\n",
    "print(\"MAE Test Score:\", mae_test)\n",
    "\n"
   ]
  },
  {
   "cell_type": "code",
   "execution_count": 70,
   "metadata": {},
   "outputs": [
    {
     "data": {
      "text/html": [
       "<div>\n",
       "<style scoped>\n",
       "    .dataframe tbody tr th:only-of-type {\n",
       "        vertical-align: middle;\n",
       "    }\n",
       "\n",
       "    .dataframe tbody tr th {\n",
       "        vertical-align: top;\n",
       "    }\n",
       "\n",
       "    .dataframe thead th {\n",
       "        text-align: right;\n",
       "    }\n",
       "</style>\n",
       "<table border=\"1\" class=\"dataframe\">\n",
       "  <thead>\n",
       "    <tr style=\"text-align: right;\">\n",
       "      <th></th>\n",
       "      <th>R2</th>\n",
       "      <th>MAE</th>\n",
       "      <th>MSE</th>\n",
       "    </tr>\n",
       "  </thead>\n",
       "  <tbody>\n",
       "    <tr>\n",
       "      <th>Train</th>\n",
       "      <td>0.9454</td>\n",
       "      <td>18967.1937</td>\n",
       "      <td>726471672.5968</td>\n",
       "    </tr>\n",
       "    <tr>\n",
       "      <th>Test</th>\n",
       "      <td>0.8214</td>\n",
       "      <td>32608.4539</td>\n",
       "      <td>2385013458.1544</td>\n",
       "    </tr>\n",
       "  </tbody>\n",
       "</table>\n",
       "</div>"
      ],
      "text/plain": [
       "          R2        MAE             MSE\n",
       "Train 0.9454 18967.1937  726471672.5968\n",
       "Test  0.8214 32608.4539 2385013458.1544"
      ]
     },
     "execution_count": 70,
     "metadata": {},
     "output_type": "execute_result"
    }
   ],
   "source": [
    "#Pembuatan dataframe pada nilai metriks before tuning\n",
    "testtrain = {\n",
    "    'R2' : [r2_train, r2_test],\n",
    "    'MAE' : [mae_train, mae_test],\n",
    "    'MSE': [mse_train, mse_test]\n",
    "}\n",
    "\n",
    "fitur= pd.DataFrame(testtrain, index=['Train', 'Test'])\n",
    "fitur"
   ]
  },
  {
   "attachments": {},
   "cell_type": "markdown",
   "metadata": {},
   "source": [
    "Tuning Model"
   ]
  },
  {
   "cell_type": "code",
   "execution_count": 71,
   "metadata": {},
   "outputs": [],
   "source": [
    "param_grid = {\n",
    "    'max_depth' : list(np.arange(1,11)),\n",
    "    'learning_rate' : [0.01,0.1,0.5,1.0],\n",
    "    'n_estimators' : list(np.arange(100,301,50)),\n",
    "    'subsample' : [0.6,0.7,0.8,0.9],\n",
    "    'gamma' : [0,1,5,10],\n",
    "    'colsample_bytree': [0.6,0.7,0.8,0.9],\n",
    "    'reg_alpha' : [0.001,0.01,0.1,1.0]\n",
    "}"
   ]
  },
  {
   "cell_type": "code",
   "execution_count": 72,
   "metadata": {},
   "outputs": [],
   "source": [
    "xgb_model = XGBRegressor()"
   ]
  },
  {
   "cell_type": "code",
   "execution_count": 73,
   "metadata": {},
   "outputs": [],
   "source": [
    "#Tuning menggunakan RandomizedSearch\n",
    "from sklearn.model_selection import RandomizedSearchCV"
   ]
  },
  {
   "cell_type": "code",
   "execution_count": 74,
   "metadata": {},
   "outputs": [
    {
     "name": "stdout",
     "output_type": "stream",
     "text": [
      "Root Mean Squared Error: 52503.37691259389\n",
      "Mean Squared Error: 52503.37691259389\n",
      "Mean Absolute Error: 52503.37691259389\n",
      "Best Hyperparameters: {'subsample': 0.8, 'reg_alpha': 0.1, 'n_estimators': 300, 'max_depth': 5, 'learning_rate': 0.5, 'gamma': 10, 'colsample_bytree': 0.8}\n"
     ]
    }
   ],
   "source": [
    "from sklearn.model_selection import RandomizedSearchCV\n",
    "random_search = RandomizedSearchCV(estimator=xgb_model, param_distributions=param_grid, n_iter=10, cv=5, random_state=42)\n",
    "random_search.fit(X_train, y_train)\n",
    "\n",
    "best_model = random_search.best_estimator_\n",
    "\n",
    "y_pred = best_model.predict(X_test)\n",
    "\n",
    "rmse = np.sqrt(mean_squared_error(y_test, y_pred)) #penggunaan RMSE untuk memvalidasi nilai MSE\n",
    "print('Root Mean Squared Error:', rmse)\n",
    "mse = (mean_squared_error(y_test, y_pred)) #MSE\n",
    "print('Mean Squared Error:', rmse)\n",
    "mae= (mean_absolute_error(y_test, y_pred)) #MAE\n",
    "print('Mean Absolute Error:', rmse)\n",
    "\n",
    "print('Best Hyperparameters:', random_search.best_params_)"
   ]
  },
  {
   "cell_type": "code",
   "execution_count": 75,
   "metadata": {},
   "outputs": [
    {
     "name": "stdout",
     "output_type": "stream",
     "text": [
      "R2 Score: 0.7935287847481662\n",
      "MSE Score: 2756604587.2258973\n",
      "MAE Score:  35808.89389699124\n"
     ]
    }
   ],
   "source": [
    "#parameter terbaik dari Randomized Search CV\n",
    "\n",
    "best_params = random_search.best_params_\n",
    "\n",
    "#Buat model dengan parameter terbaik\n",
    "best_model = XGBRegressor(**best_params)\n",
    "\n",
    "#Latih model menggunakan seluruh data pelatihan\n",
    "best_model.fit(X_train, y_train)\n",
    "\n",
    "#Prediksi pada data uji\n",
    "y_pred_tun = best_model.predict(X_test)\n",
    "\n",
    "#evaluasi performa model dengan metrik yang sesuai\n",
    "r2_tun = r2_score(y_test, y_pred_tun)\n",
    "print('R2 Score:', r2_tun)\n",
    "mse_tun = mean_squared_error(y_test, y_pred_tun)\n",
    "print('MSE Score:', mse_tun)\n",
    "mae_tun = mean_absolute_error(y_test, y_pred_tun)\n",
    "print('MAE Score: ', mae_tun)"
   ]
  },
  {
   "cell_type": "code",
   "execution_count": 76,
   "metadata": {},
   "outputs": [],
   "source": [
    "#sebelum hyperparameter tuning\n",
    "model = {'XGB':XGBRegressor(random_state=1)}\n",
    "score_before_tuning = pd.DataFrame({'R2' :r2_test, 'MSE' : mse_test, 'MAE': mae_test }, index=model.keys())\n",
    "score_after_tuning = pd.DataFrame({'R2' :r2_tun, 'MSE' : mse_tun, 'MAE': mae_tun }, index=model.keys())"
   ]
  },
  {
   "cell_type": "code",
   "execution_count": 77,
   "metadata": {},
   "outputs": [
    {
     "data": {
      "text/html": [
       "<div>\n",
       "<style scoped>\n",
       "    .dataframe tbody tr th:only-of-type {\n",
       "        vertical-align: middle;\n",
       "    }\n",
       "\n",
       "    .dataframe tbody tr th {\n",
       "        vertical-align: top;\n",
       "    }\n",
       "\n",
       "    .dataframe thead th {\n",
       "        text-align: right;\n",
       "    }\n",
       "</style>\n",
       "<table border=\"1\" class=\"dataframe\">\n",
       "  <thead>\n",
       "    <tr style=\"text-align: right;\">\n",
       "      <th></th>\n",
       "      <th>R2</th>\n",
       "      <th>MSE</th>\n",
       "      <th>MAE</th>\n",
       "    </tr>\n",
       "  </thead>\n",
       "  <tbody>\n",
       "    <tr>\n",
       "      <th>XGB</th>\n",
       "      <td>0.8214</td>\n",
       "      <td>2385013458.1544</td>\n",
       "      <td>32608.4539</td>\n",
       "    </tr>\n",
       "  </tbody>\n",
       "</table>\n",
       "</div>"
      ],
      "text/plain": [
       "        R2             MSE        MAE\n",
       "XGB 0.8214 2385013458.1544 32608.4539"
      ]
     },
     "execution_count": 77,
     "metadata": {},
     "output_type": "execute_result"
    }
   ],
   "source": [
    "#Dataframe score sebelum tuning\n",
    "score_before_tuning"
   ]
  },
  {
   "cell_type": "code",
   "execution_count": 78,
   "metadata": {},
   "outputs": [
    {
     "data": {
      "text/html": [
       "<div>\n",
       "<style scoped>\n",
       "    .dataframe tbody tr th:only-of-type {\n",
       "        vertical-align: middle;\n",
       "    }\n",
       "\n",
       "    .dataframe tbody tr th {\n",
       "        vertical-align: top;\n",
       "    }\n",
       "\n",
       "    .dataframe thead th {\n",
       "        text-align: right;\n",
       "    }\n",
       "</style>\n",
       "<table border=\"1\" class=\"dataframe\">\n",
       "  <thead>\n",
       "    <tr style=\"text-align: right;\">\n",
       "      <th></th>\n",
       "      <th>R2</th>\n",
       "      <th>MSE</th>\n",
       "      <th>MAE</th>\n",
       "    </tr>\n",
       "  </thead>\n",
       "  <tbody>\n",
       "    <tr>\n",
       "      <th>XGB</th>\n",
       "      <td>0.7935</td>\n",
       "      <td>2756604587.2259</td>\n",
       "      <td>35808.8939</td>\n",
       "    </tr>\n",
       "  </tbody>\n",
       "</table>\n",
       "</div>"
      ],
      "text/plain": [
       "        R2             MSE        MAE\n",
       "XGB 0.7935 2756604587.2259 35808.8939"
      ]
     },
     "execution_count": 78,
     "metadata": {},
     "output_type": "execute_result"
    }
   ],
   "source": [
    "#Dataframe score setelah tuning\n",
    "score_after_tuning"
   ]
  },
  {
   "attachments": {},
   "cell_type": "markdown",
   "metadata": {},
   "source": [
    "Feature Importance"
   ]
  },
  {
   "cell_type": "code",
   "execution_count": 86,
   "metadata": {},
   "outputs": [
    {
     "data": {
      "image/png": "[encoded data removed]",
      "text/plain": [
       "<Figure size 640x480 with 1 Axes>"
      ]
     },
     "metadata": {},
     "output_type": "display_data"
    }
   ],
   "source": [
    "xgb.plot_importance(model, ax=plt.gca())\n",
    "plt.show()"
   ]
  },
  {
   "attachments": {},
   "cell_type": "markdown",
   "metadata": {},
   "source": [
    "Fitur penting dalam dataset ini ialah Population, Latitude, dan Median Income"
   ]
  },
  {
   "attachments": {},
   "cell_type": "markdown",
   "metadata": {},
   "source": [
    "Cross Validation"
   ]
  },
  {
   "cell_type": "code",
   "execution_count": null,
   "metadata": {},
   "outputs": [
    {
     "data": {
      "text/plain": [
       "0.8130006570789765"
      ]
     },
     "execution_count": 150,
     "metadata": {},
     "output_type": "execute_result"
    }
   ],
   "source": [
    "from sklearn.model_selection import cross_val_score\n",
    "\n",
    "scores = cross_val_score(model, X_train, y_train, cv =5).mean()\n",
    "\n",
    "scores"
   ]
  },
  {
   "attachments": {},
   "cell_type": "markdown",
   "metadata": {},
   "source": [
    "# Kesimpulan"
   ]
  },
  {
   "attachments": {},
   "cell_type": "markdown",
   "metadata": {},
   "source": [
    "* Model yang dihasilkan memiliki nilai \n",
    "\n",
    "  Sebelum tuning\n",
    "   - R2 Score: 0.8201\n",
    "    \n",
    "   - MSE Score: 2401850193.1140\t\n",
    "   \n",
    "   - MAE Score:  32675.5871\n",
    "\n",
    "  Setelah tuning\n",
    "   - R2 Score: 0.791435968405627\n",
    "    \n",
    "   - MSE Score: 2784545853.145355 \n",
    "   \n",
    "   - MAE Score:  36901.67913529287\n",
    "* berdasarkan model yang dihasilkan, 3 faktor terbesar penentu house value adalah Population, latitude, dan median income.\n",
    "\n",
    "* Nilai R-squared yang tinggi dapat menunjukkan bahwa model memiliki kemampuan yang baik dalam menjelaskan variasi dalam data target.\n",
    "\n",
    "* Model ini masih perlu diimprovisasi agat dapat menghasilkan prediksi yang lebih baik lagi. \n"
   ]
  },
  {
   "attachments": {},
   "cell_type": "markdown",
   "metadata": {},
   "source": [
    "# Recommendations\n",
    "\n",
    "* Mengecek prediksi mana saja yang memiliki nilai error tinggi. \n",
    "\n",
    "* Penambahan fitur atau pengurangan fitur pada datset\n",
    "\n",
    "* Dapat menggunakan model lebih kompleks seperti Neural Networks\n",
    "\n",
    "* Model yang telah dibangun dapat dimanfaatkan untuk pengembangan pembuatan model lainnnya"
   ]
  },
  {
   "attachments": {},
   "cell_type": "markdown",
   "metadata": {},
   "source": [
    "# Save Model"
   ]
  },
  {
   "cell_type": "code",
   "execution_count": 89,
   "metadata": {},
   "outputs": [],
   "source": [
    "# Save Model\n",
    "\n",
    "import joblib"
   ]
  },
  {
   "cell_type": "code",
   "execution_count": 90,
   "metadata": {},
   "outputs": [],
   "source": [
    "#Save model using joblib\n",
    "joblib.dump(model, 'CaliforniaHouse_ML_XGB.joblib')\n",
    "\n",
    "#Load the model\n",
    "loaded_model = joblib.load('CaliforniaHouse_ML_XGB.joblib')\n",
    "\n",
    "#Make predictions with the loaded model\n",
    "predictions = loaded_model.predict(X_test)"
   ]
  }
 ],
 "metadata": {
  "kernelspec": {
   "display_name": "Python 3",
   "language": "python",
   "name": "python3"
  },
  "language_info": {
   "codemirror_mode": {
    "name": "ipython",
    "version": 3
   },
   "file_extension": ".py",
   "mimetype": "text/x-python",
   "name": "python",
   "nbconvert_exporter": "python",
   "pygments_lexer": "ipython3",
   "version": "3.11.1"
  },
  "orig_nbformat": 4
 },
 "nbformat": 4,
 "nbformat_minor": 2
}
